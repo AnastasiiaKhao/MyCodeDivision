{
  "nbformat": 4,
  "nbformat_minor": 0,
  "metadata": {
    "colab": {
      "provenance": [],
      "include_colab_link": true
    },
    "kernelspec": {
      "name": "python3",
      "display_name": "Python 3"
    },
    "language_info": {
      "name": "python"
    }
  },
  "cells": [
    {
      "cell_type": "markdown",
      "metadata": {
        "id": "view-in-github",
        "colab_type": "text"
      },
      "source": [
        "<a href=\"https://colab.research.google.com/github/AnastasiiaKhao/MyCodeDivision/blob/main/Copy_of_Functions1.ipynb\" target=\"_parent\"><img src=\"https://colab.research.google.com/assets/colab-badge.svg\" alt=\"Open In Colab\"/></a>"
      ]
    },
    {
      "cell_type": "markdown",
      "metadata": {
        "id": "0T-HIDf3FgQK"
      },
      "source": [
        "# Python functions\n",
        "\n",
        "---"
      ]
    },
    {
      "cell_type": "markdown",
      "metadata": {
        "id": "YM-csYt5FrvE"
      },
      "source": [
        "You have already been using functions that are provided with Python  \n",
        "*  print()\n",
        "*  input()\n",
        "*  randint() *(from random)*\n",
        "\n",
        "You can tell that they are functions because they have brackets after the name. Often there is some data in the brackets (ie something that you want the function to use on this occasion)\n",
        "\n",
        "*  print(\"Hello\")\n",
        "*  input(\"What is your name? \")\n",
        "*  randint(1,6) *(from the random function library)*\n",
        "\n",
        "The data is called a *parameter* or an *argument*.  There can be any number of parameters passed to a function.  Order is important but can sometimes be overridden.\n",
        "\n",
        "Some functions just do something (e.g. print(\"Hello\") will just print the word Hello)..  \n",
        "\n",
        "Other functions produce some new data which you will assign to a variable:  \n",
        "```\n",
        "name = input(\"What is your name? \")  \n",
        "dice_roll = randint(1,6)\n",
        "```\n",
        "\n",
        "Each time you use a function's name in your program, or in another function, you are calling it and it will run.\n",
        "\n"
      ]
    },
    {
      "cell_type": "markdown",
      "metadata": {
        "id": "Gzod-awDOrGj"
      },
      "source": [
        "---\n",
        "### Exercise 1 - len() of a string\n",
        "\n",
        "Write a function called **get_password()** which will get a password of 8 characters:  \n",
        "\n",
        "*  assign the value \"\" to a variable called **password**  \n",
        "*  start a while loop that will continue to loop while the length of `password` is not 8 characters    \n",
        "*  in the loop:  ask the user to enter a `password`\n",
        "*  after the loop, return the password to the calling program, which will print the valid password.  \n",
        "\n",
        "Test input:  \n",
        "abddgejkfjkl   \n",
        "999999999  \n",
        "ABCDEFH   \n",
        "\n",
        "Expected output:  \n",
        "ABCDEFGH  "
      ]
    },
    {
      "cell_type": "code",
      "metadata": {
        "id": "VC1h1g3cFb11",
        "colab": {
          "base_uri": "https://localhost:8080/"
        },
        "outputId": "0cca6678-0eeb-4fb1-efd7-da365d15f3ac"
      },
      "source": [
        "def get_password():\n",
        "  # add your code below here\n",
        "  password = \"\"\n",
        "  while len(password) != 8:\n",
        "    password = input(\"Enter the password: \")\n",
        "  return(password)\n",
        "print(get_password())"
      ],
      "execution_count": 1,
      "outputs": [
        {
          "output_type": "stream",
          "name": "stdout",
          "text": [
            "Enter the password: 999999999\n",
            "Enter the password: adsdasdsadsa\n",
            "Enter the password: sssss\n",
            "Enter the password: 12345678\n",
            "12345678\n"
          ]
        }
      ]
    },
    {
      "cell_type": "markdown",
      "metadata": {
        "id": "pTC1HwRUQMSa"
      },
      "source": [
        "---\n",
        "### Exercise 2 - capitalise username\n",
        "\n",
        "Write a function called **get_username()** which will:  \n",
        "\n",
        "*  ask the user for a **username**  \n",
        "*  convert the `username` to upper case and assign the new value to a variable called **username_upper**   \n",
        "* if `username_upper` is \"ADMINUSER1\" then return \"Valid user\", otherwise return \"Invalid username\".  The calling program will print the message.  \n",
        "\n",
        "Test input:  \n",
        "admin\n",
        "\n",
        "Expected output:  \n",
        "Invalid username\n",
        "\n",
        "Test input:  \n",
        "AdminUser1\n",
        "\n",
        "Expected output:  \n",
        "Valid user  \n"
      ]
    },
    {
      "cell_type": "code",
      "metadata": {
        "id": "0vusDz8YQMdB",
        "colab": {
          "base_uri": "https://localhost:8080/"
        },
        "outputId": "3bf18666-cece-4cf8-8de6-eb7dc7121505"
      },
      "source": [
        "def get_username():\n",
        "  # add your code below here\n",
        "  username = input(\"Enter the User Name: \")\n",
        "  username_upper = username.upper()\n",
        "  if username_upper == \"ADMINUSER1\":\n",
        "    return(\"Valid user\")\n",
        "  else: \n",
        "    return(\"Invalid user\")\n",
        "print(get_username())"
      ],
      "execution_count": 8,
      "outputs": [
        {
          "output_type": "stream",
          "name": "stdout",
          "text": [
            "Enter the User Name: ADMINUSER1\n",
            "Valid user\n"
          ]
        }
      ]
    },
    {
      "cell_type": "markdown",
      "metadata": {
        "id": "SUcNgc6bRfha"
      },
      "source": [
        "---\n",
        "### Exercise 3 - select correct message\n",
        "\n",
        "Write a function called **get_credentials()** which will:  \n",
        "\n",
        "*  ask the user for a **username**  \n",
        "*  ask the user for a **password**  \n",
        "*  return one of the following messages:\n",
        "*  *  \"Credentials accepted\"  \n",
        "*  *  \"Invalid user\"  \n",
        "*  *  \"Password too short\"  \n",
        "\n",
        "Note:  `username` must be \"AdminUser1\" and the password must be at least 8 characters.  The calling program will print the message.  \n",
        "\n",
        "Test input:  \n",
        "AdminUser1\n",
        "abc999def\n",
        "\n",
        "Expected output:  \n",
        "Credentials accepted\n",
        "\n",
        "Test input:  \n",
        "AdminUser1\n",
        "abc\n",
        "\n",
        "Expected output:  \n",
        "Password too short  \n",
        "\n",
        "Test input:  \n",
        "User1\n",
        "abc999def\n",
        "\n",
        "Expected output:  \n",
        "Invalid user  "
      ]
    },
    {
      "cell_type": "code",
      "metadata": {
        "id": "GUjr6u9sRfrh",
        "colab": {
          "base_uri": "https://localhost:8080/",
          "height": 72
        },
        "outputId": "e9e76d06-3856-4dd0-f6ec-b0df019c068d"
      },
      "source": [
        "def get_credentials():\n",
        "  username = input(\"Enter User Name: \")\n",
        "  password = input(\"Enter Password: \")\n",
        "  username_upper = username.upper()\n",
        "  if username_upper != \"ADMINUSER1\":\n",
        "    return(\"Invalid user\")\n",
        "  if len(password) != 8:\n",
        "    return(\"Password too short\")\n",
        "  else:\n",
        "   return(\"Credentials accepted\")\n",
        "get_credentials()"
      ],
      "execution_count": 17,
      "outputs": [
        {
          "name": "stdout",
          "output_type": "stream",
          "text": [
            "Enter User Name: ADMINUSER1\n",
            "Enter Password: 12345678\n"
          ]
        },
        {
          "output_type": "execute_result",
          "data": {
            "text/plain": [
              "'Credentials accepted'"
            ],
            "application/vnd.google.colaboratory.intrinsic+json": {
              "type": "string"
            }
          },
          "metadata": {},
          "execution_count": 17
        }
      ]
    },
    {
      "cell_type": "markdown",
      "metadata": {
        "id": "oVIw8G_FTWoS"
      },
      "source": [
        "---\n",
        "### Exercise 3 - round to given dp\n",
        "\n",
        "Write a function called **get_rounded_float()** which will:  \n",
        "\n",
        "*  ask the user for a decimal **number**  \n",
        "*  ask the user for a number of **places** to round to  \n",
        "*  return the number rounded to the requested number of decimal places\n",
        "\n",
        "Note:  The calling program will print the number.  \n",
        "\n",
        "Test input:  \n",
        "3.14159  \n",
        "2\n",
        "\n",
        "Expected output:  \n",
        "3.14  \n",
        "\n",
        "Test input:  \n",
        "98.6666666666666  \n",
        "4  \n",
        "\n",
        "Expected output:  \n",
        "98.6667  "
      ]
    },
    {
      "cell_type": "code",
      "metadata": {
        "id": "AHKffkJbTWxS",
        "colab": {
          "base_uri": "https://localhost:8080/"
        },
        "outputId": "bcf4bc73-85e8-4570-d8ce-63d10cff043c"
      },
      "source": [
        "def get_rounded_float():\n",
        "  number = float(input(\"Enter a decimal number: \"))\n",
        "  places = int(input(\"Enter a number of places to round to: \"))\n",
        "  return(round(number,places))\n",
        "get_rounded_float()"
      ],
      "execution_count": 20,
      "outputs": [
        {
          "name": "stdout",
          "output_type": "stream",
          "text": [
            "Enter a decimal number: 98.6666666\n",
            "Enter a number of places to round to: 4\n"
          ]
        },
        {
          "output_type": "execute_result",
          "data": {
            "text/plain": [
              "98.6667"
            ]
          },
          "metadata": {},
          "execution_count": 20
        }
      ]
    },
    {
      "cell_type": "markdown",
      "metadata": {
        "id": "x4Nl2CQ3T9Aj"
      },
      "source": [
        "---\n",
        "### Exercise 4 - round or not\n",
        "\n",
        "Write a function called **get_rounded_float()** which will:  \n",
        "\n",
        "*  ask the user for a decimal **number**  \n",
        "*  ask the user if they would like to round the number (Y or N) assign this value to **round_number**\n",
        "*  if `round_number` is \"Y\", then ask the user for a number of **places** to round to and return the number rounded to the required number of decimal places  \n",
        "*  otherwise, return the number as it was typed in\n",
        "\n",
        "Note:  The calling program will print the number.  \n",
        "\n",
        "Test input:  \n",
        "3.14159  \n",
        "Y  \n",
        "3\n",
        "\n",
        "Expected output:  \n",
        "3.142\n",
        "\n",
        "Test input:  \n",
        "98.6666666666666  \n",
        "N\n",
        "\n",
        "Expected output:  \n",
        "98.6666666666666  "
      ]
    },
    {
      "cell_type": "code",
      "metadata": {
        "id": "kzLHRud6T9Lo",
        "colab": {
          "base_uri": "https://localhost:8080/"
        },
        "outputId": "8f6ff81d-cced-42ee-f667-8e747e1550c0"
      },
      "source": [
        "def get_rounded_float():\n",
        "  number = float(input(\"Enter a decimal number: \"))\n",
        "  round_number = input(\"Would you like to round the number? Please enter Y or N: \")\n",
        "  if round_number == \"N\":\n",
        "    print(number)\n",
        "  else :\n",
        "    places = int(input(\"Enter a number of places to round to: \"))\n",
        "    return(round(number,places))\n",
        "get_rounded_float()"
      ],
      "execution_count": 23,
      "outputs": [
        {
          "name": "stdout",
          "output_type": "stream",
          "text": [
            "Enter a decimal number: 4.555555\n",
            "Would you like to round the number? Please enter Y or N: Y\n",
            "Enter a number of places to round to: 2\n"
          ]
        },
        {
          "output_type": "execute_result",
          "data": {
            "text/plain": [
              "4.56"
            ]
          },
          "metadata": {},
          "execution_count": 23
        }
      ]
    },
    {
      "cell_type": "markdown",
      "metadata": {
        "id": "o2Hl9tOFVA17"
      },
      "source": [
        "---\n",
        "### Exercise 5 - random number and places\n",
        "\n",
        "Write a function called **generate_rounded_float()** which will:  \n",
        "\n",
        "*  import the functions uniform and randint from random (from random import uniform, randint)    \n",
        "Note *: the uniform function will generate a random float between two given boundary numbers ( e.g. number = uniform(10,20)).  It is better practice to name the functions you will be using from a library rather than importing the whole library, which could be large*  \n",
        "\n",
        "*  generate a random decimal **number** between 1 and 10   \n",
        "*  print the `number`   \n",
        "*  generate a random integer **places** between 1 and 4\n",
        "*  print `places`\n",
        "*  return the `number` rounded to the given number of `places`\n",
        "\n",
        "Note:  The calling program will print the number.  \n",
        "\n",
        "Example input:  \n",
        "3.14159  \n",
        "Y  \n",
        "3\n",
        "\n",
        "Expected output:  \n",
        "3.142\n",
        "\n",
        "Test input:  \n",
        "98.6666666666666  \n",
        "N\n",
        "\n",
        "Expected output:  \n",
        "98.6666666666666 "
      ]
    },
    {
      "cell_type": "code",
      "metadata": {
        "id": "c5ufi-U-VBB5",
        "colab": {
          "base_uri": "https://localhost:8080/"
        },
        "outputId": "a9e950f0-a798-496e-96e5-f02e515ddb5d"
      },
      "source": [
        "import random\n",
        "\n",
        "def generate_rounded_float():\n",
        "  number = random.uniform(1,10)\n",
        "  print(number)\n",
        "  places = random.randint(1,4)\n",
        "  print(places)\n",
        "  return(round(number,places))\n",
        "generate_rounded_float()"
      ],
      "execution_count": 26,
      "outputs": [
        {
          "output_type": "stream",
          "name": "stdout",
          "text": [
            "6.162093365828409\n",
            "4\n"
          ]
        },
        {
          "output_type": "execute_result",
          "data": {
            "text/plain": [
              "6.1621"
            ]
          },
          "metadata": {},
          "execution_count": 26
        }
      ]
    }
  ]
}