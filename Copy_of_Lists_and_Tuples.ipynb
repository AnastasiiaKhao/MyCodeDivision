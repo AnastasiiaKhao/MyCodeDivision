{
  "nbformat": 4,
  "nbformat_minor": 0,
  "metadata": {
    "colab": {
      "provenance": [],
      "include_colab_link": true
    },
    "kernelspec": {
      "name": "python3",
      "display_name": "Python 3"
    },
    "language_info": {
      "name": "python"
    }
  },
  "cells": [
    {
      "cell_type": "markdown",
      "metadata": {
        "id": "view-in-github",
        "colab_type": "text"
      },
      "source": [
        "<a href=\"https://colab.research.google.com/github/AnastasiiaKhao/MyCodeDivision/blob/main/Copy_of_Lists_and_Tuples.ipynb\" target=\"_parent\"><img src=\"https://colab.research.google.com/assets/colab-badge.svg\" alt=\"Open In Colab\"/></a>"
      ]
    },
    {
      "cell_type": "markdown",
      "metadata": {
        "id": "Z-M-RCWATK71"
      },
      "source": [
        "# Lists and tuples\n",
        "\n",
        "Often we need to store a number of single items of data together so that they can be processed together. This might be because all the data refers to one person (e.g. name, age, gender, etc) OR it might be because we have a set of data (e.g. all the items that should be displayed in a drop down list, such as all the years from this year back to 100 years ago so that someone can select their year of birth)\n",
        "\n",
        "Python has a range of data structures available including:\n",
        "*   lists  \n",
        "*   tuples  \n",
        "*   dictionaries  \n",
        "*   sets\n",
        "\n",
        "This worksheet looks at lists and tuples.\n",
        "\n",
        "## List\n",
        "A list is a set of related, individual data objects, that are indexed and can be processed as a whole, as subsets or as individual items.  Lists are stored, essentially, as contiguous items in memory so that access can be as quick as possible.  However, they are mutable (they can be changed after they are created and stored) and so those mechanisms need to include extra functionality to deal with changing list sizes.\n",
        "\n",
        "## Tuple\n",
        "Essentially the same as a list but it is immutable.  Once it has been created it can't be changed.  It is stored in memory as contiguous items, with the size required being fixed right from the start.  This makes it faster to access.\n",
        "\n",
        "The code below will create two lists and a tuple.\n",
        "*   the first list contains 1000 random numbers between 1 and 100\n",
        "*   the second list is of random length (up to 5000) and each item is one of the 9 characteristics that are protected under the Equality Act in the UK.\n",
        "*   the tuple contains the 9 protected characteristics\n",
        "\n",
        "Before you start the exercises, run the code below.  It will generate the lists and tuple so that you can use them in the exercises.  If you need to recreate the lists again (because you have changed them and need to work on the originals, just run this cell again).\n",
        "\n",
        "***Note:***  *a list variable contains a reference to the start of the list in memory, rather than storing the list itself.  This means that if you assign the list to another variable (to make a copy), it will only copy across the reference.  If you change the copy, you change the original list.*\n",
        "\n",
        "*If you need to make a copy of the list you will need to use a loop to create a new list and copy all items across.*"
      ]
    },
    {
      "cell_type": "code",
      "metadata": {
        "id": "BDRckXeQXFMT"
      },
      "source": [
        "from random import randint, choice\n",
        "\n",
        "def get_num_list():\n",
        "  num_list = [randint(1,100) for n in range(1000)]\n",
        "  return num_list\n",
        "\n",
        "def get_protected_characteristics():\n",
        "  characteristics_tuple = ('age','disability','gender reassignment','marriage and civil partnership','pregnancy and maternity','race','religion or belief','sex','sexual orientation')\n",
        "  return characteristics_tuple\n",
        "\n",
        "def get_protected_characteristic_list(protected_characteristics):\n",
        "  char_list = [choice(protected_characteristics) for ch in range(randint(1,5000))]\n",
        "  return char_list\n",
        "\n",
        "nums = get_num_list()\n",
        "protected_characteristics = get_protected_characteristics()\n",
        "characteristics = get_protected_characteristic_list(protected_characteristics)"
      ],
      "execution_count": 2,
      "outputs": []
    },
    {
      "cell_type": "markdown",
      "metadata": {
        "id": "xXT38-4ZV45n"
      },
      "source": [
        "## The exercises below will use the lists:  \n",
        "*   **nums** (a list of between 1 and 1000 random numbers, each number is between 0 and 1000)\n",
        "*   **characteristics** (a list of 5000 random protected_characteristics)\n",
        "\n",
        "and the tuple:\n",
        "*  **protected_characteristics** (a set of the 9 protected characteristics identified in the Equality Act)\n",
        "\n",
        "## You can run the cell above any number of times to generate new lists."
      ]
    },
    {
      "cell_type": "markdown",
      "metadata": {
        "id": "Ft0dXl7fUuaK"
      },
      "source": [
        "---\n",
        "### Exercise 1 - list head, tail and shape\n",
        "\n",
        "Write a function, **describe_list()** which will:\n",
        "*  print the length of the list `nums`\n",
        "*  print the first 10 items in `nums`  \n",
        "*  print the last 5 items in `nums`"
      ]
    },
    {
      "cell_type": "code",
      "metadata": {
        "id": "jUcZD7mmTJdA",
        "colab": {
          "base_uri": "https://localhost:8080/"
        },
        "outputId": "a4adfa2b-31a8-482f-9047-8d12a857df39"
      },
      "source": [
        "def describe_list():\n",
        "   print(len(nums))\n",
        "   print(nums[0:10])\n",
        "   print(nums[995:])\n",
        "\n",
        "describe_list()\n"
      ],
      "execution_count": 8,
      "outputs": [
        {
          "output_type": "stream",
          "name": "stdout",
          "text": [
            "1000\n",
            "[93, 53, 77, 95, 68, 83, 35, 38, 53, 21]\n",
            "[65, 95, 9, 9, 63]\n"
          ]
        }
      ]
    },
    {
      "cell_type": "markdown",
      "metadata": {
        "id": "yNWg08k6bXv0"
      },
      "source": [
        "---\n",
        "### Exercise 2 - show tuple items\n",
        "\n",
        "Write a function which will:\n",
        "*   use a loop to print the list of protected characteristics from the `protected_characteristics` tuple.\n"
      ]
    },
    {
      "cell_type": "code",
      "metadata": {
        "id": "P2HnCG9pb1BS",
        "colab": {
          "base_uri": "https://localhost:8080/"
        },
        "outputId": "bbf1f1f5-5f97-45d1-fd76-7855d5efabd1"
      },
      "source": [
        "def print_list():\n",
        "  for i in range(len(protected_characteristics)):\n",
        "    print(protected_characteristics[i])\n",
        "\n",
        "print_list()"
      ],
      "execution_count": 10,
      "outputs": [
        {
          "output_type": "stream",
          "name": "stdout",
          "text": [
            "age\n",
            "disability\n",
            "gender reassignment\n",
            "marriage and civil partnership\n",
            "pregnancy and maternity\n",
            "race\n",
            "religion or belief\n",
            "sex\n",
            "sexual orientation\n"
          ]
        }
      ]
    },
    {
      "cell_type": "markdown",
      "metadata": {
        "id": "RTSuQZs4b1JU"
      },
      "source": [
        "---\n",
        "### Exercise 3 - list a random subset\n",
        "\n",
        "Write a function which will:\n",
        "*  calculate the position of the middle item in the `characteristics` list   \n",
        "(*Hint: use len() to help with this*)\n",
        "*  calculate the position of the item that is 5 places before the middle item\n",
        "*  calculate the position of the item that is 5 places after the middle item\n",
        "*  print the part of the list that includes the items from 5 places before to 5 places after.  \n",
        "\n",
        "Expected output:  \n",
        "Your list will include 11 items."
      ]
    },
    {
      "cell_type": "code",
      "metadata": {
        "id": "OwhFnH2kdC11",
        "colab": {
          "base_uri": "https://localhost:8080/"
        },
        "outputId": "9ed89f1a-afb8-467f-ef43-2d60d961cb6e"
      },
      "source": [
        "def random_subset_list():\n",
        "  mid = len(characteristics)/2\n",
        "  before_mid = int(mid-5)\n",
        "  after_mid = int(mid+5)\n",
        "  i=before_mid\n",
        "  while before_mid <= i < after_mid+1:\n",
        "    print(characteristics[i])\n",
        "    i+=1\n",
        "random_subset_list()  "
      ],
      "execution_count": 23,
      "outputs": [
        {
          "output_type": "stream",
          "name": "stdout",
          "text": [
            "marriage and civil partnership\n",
            "marriage and civil partnership\n",
            "gender reassignment\n",
            "race\n",
            "religion or belief\n",
            "religion or belief\n",
            "religion or belief\n",
            "pregnancy and maternity\n",
            "sexual orientation\n",
            "age\n",
            "disability\n"
          ]
        }
      ]
    },
    {
      "cell_type": "markdown",
      "metadata": {
        "id": "KS0x3oFNePI9"
      },
      "source": [
        "---\n",
        "### Exercise 4 - create a copy\n",
        "\n",
        "Write a function which will: use a for loop to create a copy of the `nums` list:\n",
        "\n",
        "*   create a new, empty, list called **new_nums**  (*Hint: an empty list is [ ]*)\n",
        "*   use a for loop which uses the following syntax:  `for num in nums:`\n",
        "*   each time round the loop append `num` to `new_nums`  ( *`new_nums.append(num)`*)\n",
        "*   print the first 10 items of `new_nums`\n",
        "*   print the first 10 items of `nums`\n",
        "*   print the length of both lists"
      ]
    },
    {
      "cell_type": "code",
      "metadata": {
        "id": "mpK1Ip3we-uC",
        "colab": {
          "base_uri": "https://localhost:8080/"
        },
        "outputId": "29957126-5913-4eca-d92f-2c2aad2398ef"
      },
      "source": [
        "def copy_list():\n",
        "  new_nums=[]\n",
        "  for num in nums:\n",
        "    new_nums.append(num)\n",
        "  print(\"New Nums: \" , new_nums)\n",
        "  print(\"Num: \" , nums)\n",
        "  print(\"Length of New Nums: \" , len(new_nums))\n",
        "  print(\"Length of New Nums: \" , len(nums))\n",
        "copy_list()\n"
      ],
      "execution_count": 31,
      "outputs": [
        {
          "output_type": "stream",
          "name": "stdout",
          "text": [
            "New Nums:  [93, 53, 77, 95, 68, 83, 35, 38, 53, 21, 20, 76, 28, 52, 66, 33, 33, 25, 53, 25, 74, 88, 27, 17, 90, 68, 76, 37, 94, 34, 83, 72, 48, 66, 95, 55, 22, 28, 82, 36, 95, 94, 3, 82, 88, 30, 21, 33, 7, 73, 77, 12, 70, 51, 90, 37, 70, 43, 85, 85, 34, 27, 98, 5, 88, 90, 56, 45, 5, 43, 37, 30, 32, 87, 35, 33, 64, 60, 68, 62, 76, 40, 85, 25, 54, 54, 72, 70, 64, 35, 49, 69, 70, 76, 18, 69, 32, 41, 82, 23, 26, 28, 22, 62, 14, 95, 51, 17, 81, 9, 92, 54, 69, 61, 97, 94, 14, 18, 57, 42, 44, 85, 13, 32, 4, 44, 36, 2, 76, 15, 47, 93, 82, 87, 53, 92, 27, 55, 63, 76, 99, 52, 95, 50, 9, 53, 65, 98, 75, 48, 8, 56, 35, 34, 47, 7, 74, 58, 85, 74, 94, 57, 87, 34, 12, 42, 9, 49, 82, 49, 24, 95, 76, 98, 37, 5, 28, 60, 88, 8, 59, 95, 17, 43, 55, 73, 73, 91, 98, 33, 81, 85, 40, 50, 15, 8, 24, 92, 38, 15, 2, 67, 30, 43, 20, 97, 79, 6, 63, 23, 66, 43, 38, 15, 64, 22, 85, 71, 6, 87, 2, 14, 41, 68, 39, 59, 17, 13, 94, 38, 21, 32, 100, 35, 59, 88, 94, 66, 38, 63, 67, 40, 29, 63, 33, 95, 84, 2, 71, 50, 36, 11, 93, 28, 64, 7, 51, 16, 91, 95, 89, 98, 50, 66, 53, 17, 61, 97, 37, 37, 8, 31, 99, 20, 64, 6, 91, 100, 59, 56, 37, 64, 48, 58, 8, 51, 31, 23, 81, 52, 31, 1, 75, 44, 12, 9, 27, 86, 48, 22, 65, 57, 11, 94, 22, 82, 62, 94, 21, 44, 16, 76, 90, 48, 61, 63, 46, 57, 65, 27, 36, 51, 53, 79, 5, 48, 17, 80, 80, 63, 22, 29, 73, 54, 16, 94, 89, 79, 26, 63, 34, 1, 11, 21, 78, 77, 42, 66, 66, 54, 50, 69, 50, 38, 3, 55, 82, 23, 84, 4, 74, 31, 12, 58, 49, 60, 59, 5, 4, 19, 21, 39, 99, 85, 19, 35, 43, 81, 81, 33, 15, 29, 46, 82, 56, 99, 22, 99, 64, 87, 82, 36, 79, 57, 74, 25, 64, 86, 61, 45, 63, 3, 82, 70, 26, 71, 8, 46, 29, 49, 27, 78, 42, 62, 51, 95, 45, 15, 15, 92, 33, 25, 46, 17, 52, 33, 92, 23, 56, 72, 16, 79, 6, 98, 94, 39, 90, 46, 47, 9, 78, 92, 72, 24, 40, 81, 26, 17, 10, 50, 24, 46, 92, 6, 65, 31, 36, 32, 20, 86, 77, 17, 98, 61, 57, 69, 16, 66, 89, 64, 61, 1, 57, 47, 74, 8, 42, 7, 25, 16, 68, 7, 100, 81, 45, 1, 12, 40, 86, 81, 10, 1, 64, 91, 28, 50, 91, 29, 20, 93, 2, 68, 49, 75, 44, 56, 2, 57, 49, 63, 69, 32, 82, 5, 44, 41, 40, 33, 36, 71, 57, 97, 4, 55, 97, 46, 84, 9, 24, 77, 34, 98, 65, 39, 84, 57, 45, 32, 93, 47, 72, 29, 15, 44, 79, 16, 46, 71, 82, 60, 89, 67, 98, 78, 74, 24, 15, 55, 90, 98, 61, 47, 67, 65, 7, 95, 2, 36, 13, 19, 35, 64, 2, 31, 8, 9, 38, 41, 78, 93, 22, 90, 61, 100, 65, 77, 67, 23, 11, 32, 26, 37, 13, 44, 50, 64, 55, 83, 40, 23, 93, 78, 72, 31, 65, 66, 21, 71, 15, 68, 49, 82, 86, 9, 80, 9, 97, 76, 77, 1, 66, 71, 23, 8, 95, 33, 24, 92, 28, 21, 2, 66, 25, 92, 13, 30, 28, 66, 36, 63, 67, 82, 52, 83, 75, 44, 9, 56, 85, 22, 11, 72, 47, 65, 98, 55, 10, 52, 50, 18, 29, 73, 33, 60, 100, 70, 12, 59, 86, 59, 60, 37, 17, 74, 68, 73, 64, 73, 81, 59, 7, 51, 11, 94, 75, 54, 62, 97, 5, 55, 78, 77, 96, 2, 6, 44, 22, 46, 45, 90, 45, 63, 81, 88, 6, 90, 85, 65, 20, 86, 24, 75, 88, 47, 37, 31, 83, 93, 62, 35, 2, 63, 23, 11, 24, 51, 93, 60, 90, 34, 29, 12, 68, 46, 67, 27, 7, 14, 51, 45, 96, 98, 21, 99, 81, 15, 66, 14, 7, 13, 40, 1, 54, 89, 86, 29, 76, 70, 81, 59, 53, 4, 87, 40, 96, 83, 15, 21, 70, 74, 85, 18, 9, 99, 16, 90, 13, 47, 45, 20, 8, 93, 39, 85, 99, 83, 31, 57, 62, 43, 22, 93, 30, 10, 7, 31, 99, 36, 89, 6, 97, 31, 22, 84, 77, 80, 30, 80, 66, 81, 51, 29, 99, 53, 10, 85, 52, 10, 2, 61, 62, 4, 49, 98, 28, 87, 97, 95, 17, 6, 67, 71, 21, 90, 45, 63, 54, 13, 92, 12, 86, 29, 100, 43, 12, 52, 27, 92, 80, 24, 46, 41, 62, 93, 25, 3, 63, 78, 43, 13, 94, 92, 25, 45, 29, 90, 42, 63, 17, 22, 17, 25, 11, 83, 34, 70, 84, 16, 68, 16, 80, 49, 78, 88, 33, 80, 54, 28, 81, 24, 97, 53, 81, 3, 51, 75, 53, 1, 80, 64, 82, 49, 70, 21, 68, 7, 85, 31, 92, 39, 9, 11, 100, 55, 47, 92, 30, 45, 75, 7, 6, 96, 2, 17, 74, 22, 74, 18, 34, 98, 94, 87, 8, 83, 65, 93, 39, 40, 38, 50, 23, 46, 92, 3, 14, 16, 94, 53, 68, 96, 3, 81, 48, 55, 84, 92, 83, 32, 94, 72, 61, 88, 86, 42, 9, 19, 88, 60, 97, 20, 90, 95, 31, 10, 99, 37, 12, 36, 16, 63, 58, 85, 99, 60, 48, 48, 25, 40, 61, 2, 54, 33, 39, 71, 72, 65, 95, 9, 9, 63]\n",
            "Num:  [93, 53, 77, 95, 68, 83, 35, 38, 53, 21, 20, 76, 28, 52, 66, 33, 33, 25, 53, 25, 74, 88, 27, 17, 90, 68, 76, 37, 94, 34, 83, 72, 48, 66, 95, 55, 22, 28, 82, 36, 95, 94, 3, 82, 88, 30, 21, 33, 7, 73, 77, 12, 70, 51, 90, 37, 70, 43, 85, 85, 34, 27, 98, 5, 88, 90, 56, 45, 5, 43, 37, 30, 32, 87, 35, 33, 64, 60, 68, 62, 76, 40, 85, 25, 54, 54, 72, 70, 64, 35, 49, 69, 70, 76, 18, 69, 32, 41, 82, 23, 26, 28, 22, 62, 14, 95, 51, 17, 81, 9, 92, 54, 69, 61, 97, 94, 14, 18, 57, 42, 44, 85, 13, 32, 4, 44, 36, 2, 76, 15, 47, 93, 82, 87, 53, 92, 27, 55, 63, 76, 99, 52, 95, 50, 9, 53, 65, 98, 75, 48, 8, 56, 35, 34, 47, 7, 74, 58, 85, 74, 94, 57, 87, 34, 12, 42, 9, 49, 82, 49, 24, 95, 76, 98, 37, 5, 28, 60, 88, 8, 59, 95, 17, 43, 55, 73, 73, 91, 98, 33, 81, 85, 40, 50, 15, 8, 24, 92, 38, 15, 2, 67, 30, 43, 20, 97, 79, 6, 63, 23, 66, 43, 38, 15, 64, 22, 85, 71, 6, 87, 2, 14, 41, 68, 39, 59, 17, 13, 94, 38, 21, 32, 100, 35, 59, 88, 94, 66, 38, 63, 67, 40, 29, 63, 33, 95, 84, 2, 71, 50, 36, 11, 93, 28, 64, 7, 51, 16, 91, 95, 89, 98, 50, 66, 53, 17, 61, 97, 37, 37, 8, 31, 99, 20, 64, 6, 91, 100, 59, 56, 37, 64, 48, 58, 8, 51, 31, 23, 81, 52, 31, 1, 75, 44, 12, 9, 27, 86, 48, 22, 65, 57, 11, 94, 22, 82, 62, 94, 21, 44, 16, 76, 90, 48, 61, 63, 46, 57, 65, 27, 36, 51, 53, 79, 5, 48, 17, 80, 80, 63, 22, 29, 73, 54, 16, 94, 89, 79, 26, 63, 34, 1, 11, 21, 78, 77, 42, 66, 66, 54, 50, 69, 50, 38, 3, 55, 82, 23, 84, 4, 74, 31, 12, 58, 49, 60, 59, 5, 4, 19, 21, 39, 99, 85, 19, 35, 43, 81, 81, 33, 15, 29, 46, 82, 56, 99, 22, 99, 64, 87, 82, 36, 79, 57, 74, 25, 64, 86, 61, 45, 63, 3, 82, 70, 26, 71, 8, 46, 29, 49, 27, 78, 42, 62, 51, 95, 45, 15, 15, 92, 33, 25, 46, 17, 52, 33, 92, 23, 56, 72, 16, 79, 6, 98, 94, 39, 90, 46, 47, 9, 78, 92, 72, 24, 40, 81, 26, 17, 10, 50, 24, 46, 92, 6, 65, 31, 36, 32, 20, 86, 77, 17, 98, 61, 57, 69, 16, 66, 89, 64, 61, 1, 57, 47, 74, 8, 42, 7, 25, 16, 68, 7, 100, 81, 45, 1, 12, 40, 86, 81, 10, 1, 64, 91, 28, 50, 91, 29, 20, 93, 2, 68, 49, 75, 44, 56, 2, 57, 49, 63, 69, 32, 82, 5, 44, 41, 40, 33, 36, 71, 57, 97, 4, 55, 97, 46, 84, 9, 24, 77, 34, 98, 65, 39, 84, 57, 45, 32, 93, 47, 72, 29, 15, 44, 79, 16, 46, 71, 82, 60, 89, 67, 98, 78, 74, 24, 15, 55, 90, 98, 61, 47, 67, 65, 7, 95, 2, 36, 13, 19, 35, 64, 2, 31, 8, 9, 38, 41, 78, 93, 22, 90, 61, 100, 65, 77, 67, 23, 11, 32, 26, 37, 13, 44, 50, 64, 55, 83, 40, 23, 93, 78, 72, 31, 65, 66, 21, 71, 15, 68, 49, 82, 86, 9, 80, 9, 97, 76, 77, 1, 66, 71, 23, 8, 95, 33, 24, 92, 28, 21, 2, 66, 25, 92, 13, 30, 28, 66, 36, 63, 67, 82, 52, 83, 75, 44, 9, 56, 85, 22, 11, 72, 47, 65, 98, 55, 10, 52, 50, 18, 29, 73, 33, 60, 100, 70, 12, 59, 86, 59, 60, 37, 17, 74, 68, 73, 64, 73, 81, 59, 7, 51, 11, 94, 75, 54, 62, 97, 5, 55, 78, 77, 96, 2, 6, 44, 22, 46, 45, 90, 45, 63, 81, 88, 6, 90, 85, 65, 20, 86, 24, 75, 88, 47, 37, 31, 83, 93, 62, 35, 2, 63, 23, 11, 24, 51, 93, 60, 90, 34, 29, 12, 68, 46, 67, 27, 7, 14, 51, 45, 96, 98, 21, 99, 81, 15, 66, 14, 7, 13, 40, 1, 54, 89, 86, 29, 76, 70, 81, 59, 53, 4, 87, 40, 96, 83, 15, 21, 70, 74, 85, 18, 9, 99, 16, 90, 13, 47, 45, 20, 8, 93, 39, 85, 99, 83, 31, 57, 62, 43, 22, 93, 30, 10, 7, 31, 99, 36, 89, 6, 97, 31, 22, 84, 77, 80, 30, 80, 66, 81, 51, 29, 99, 53, 10, 85, 52, 10, 2, 61, 62, 4, 49, 98, 28, 87, 97, 95, 17, 6, 67, 71, 21, 90, 45, 63, 54, 13, 92, 12, 86, 29, 100, 43, 12, 52, 27, 92, 80, 24, 46, 41, 62, 93, 25, 3, 63, 78, 43, 13, 94, 92, 25, 45, 29, 90, 42, 63, 17, 22, 17, 25, 11, 83, 34, 70, 84, 16, 68, 16, 80, 49, 78, 88, 33, 80, 54, 28, 81, 24, 97, 53, 81, 3, 51, 75, 53, 1, 80, 64, 82, 49, 70, 21, 68, 7, 85, 31, 92, 39, 9, 11, 100, 55, 47, 92, 30, 45, 75, 7, 6, 96, 2, 17, 74, 22, 74, 18, 34, 98, 94, 87, 8, 83, 65, 93, 39, 40, 38, 50, 23, 46, 92, 3, 14, 16, 94, 53, 68, 96, 3, 81, 48, 55, 84, 92, 83, 32, 94, 72, 61, 88, 86, 42, 9, 19, 88, 60, 97, 20, 90, 95, 31, 10, 99, 37, 12, 36, 16, 63, 58, 85, 99, 60, 48, 48, 25, 40, 61, 2, 54, 33, 39, 71, 72, 65, 95, 9, 9, 63]\n",
            "Length of New Nums:  1000\n",
            "Length of New Nums:  1000\n"
          ]
        }
      ]
    },
    {
      "cell_type": "markdown",
      "metadata": {
        "id": "deUIFWjRe-3G"
      },
      "source": [
        "\n",
        "\n",
        "```\n",
        "# This is formatted as code\n",
        "```\n",
        "\n",
        "---\n",
        "### Exercise 5 - count the occurrence of age in characteristics\n",
        "\n",
        "Write a function which will use the list method:\n",
        "\n",
        "`num_items = list_name.count(item)`\n",
        "\n",
        "to count the number of occurrences of 'age' in the `characteristics` list.  Print the result."
      ]
    },
    {
      "cell_type": "code",
      "metadata": {
        "id": "b9TrHQ9hfoIU",
        "colab": {
          "base_uri": "https://localhost:8080/"
        },
        "outputId": "22a030ad-773b-4488-8548-983087e17c45"
      },
      "source": [
        "def count_number_age():\n",
        "  num_age = characteristics.count(\"age\")\n",
        "  print(num_age)\n",
        "count_number_age()"
      ],
      "execution_count": 32,
      "outputs": [
        {
          "output_type": "stream",
          "name": "stdout",
          "text": [
            "294\n"
          ]
        }
      ]
    },
    {
      "cell_type": "markdown",
      "metadata": {
        "id": "zm2VI5RmfoSy"
      },
      "source": [
        "---\n",
        "### Exercise 6 - sort the nums list\n",
        "\n",
        "Write a function which will:\n",
        "*   call the function `get_num_list()` and store the result in a new list called **sort_nums**\n",
        "*   print the first, and last, 20 items in the `sort_nums` list\n",
        "*   use the `list_name.sort()` method to sort the `sort_nums` list into ascending order\n",
        "*   print the first, and last, 20 items again  \n",
        "*   use the `list_name.sort()` method again to sort the `sort_nums` list into descending order\n",
        "*   print the first, and last, 20 items again"
      ]
    },
    {
      "cell_type": "code",
      "metadata": {
        "id": "Fksgpj9JgWDs",
        "colab": {
          "base_uri": "https://localhost:8080/"
        },
        "outputId": "ef717727-fbba-4f38-df0a-edd75da74eed"
      },
      "source": [
        "def sort_nums():\n",
        "  sort_nums = get_num_list()\n",
        "  print(\"Original list:\")\n",
        "  print(sort_nums[:20])\n",
        "  print(sort_nums[int(len(sort_nums))-20:])\n",
        "\n",
        "  sort_nums.sort()\n",
        "  print(\"List into ascending order\")\n",
        "  print(sort_nums[:20])\n",
        "  print(sort_nums[int(len(sort_nums))-20:])\n",
        "\n",
        "  sort_nums.sort(reverse = True)\n",
        "  print(\"List into descending order\")\n",
        "  print(sort_nums[:20])\n",
        "  print(sort_nums[int(len(sort_nums))-20:])\n",
        "\n",
        "sort_nums()"
      ],
      "execution_count": 41,
      "outputs": [
        {
          "output_type": "stream",
          "name": "stdout",
          "text": [
            "Original list:\n",
            "[17, 58, 41, 26, 31, 54, 93, 100, 13, 73, 49, 92, 92, 10, 87, 90, 31, 6, 95, 35]\n",
            "[46, 42, 11, 44, 36, 66, 90, 9, 34, 98, 86, 4, 19, 20, 64, 49, 98, 26, 83, 40]\n",
            "List into ascending order\n",
            "[1, 1, 1, 1, 1, 1, 1, 2, 2, 2, 2, 2, 2, 2, 2, 2, 3, 3, 3, 3]\n",
            "[98, 99, 99, 99, 99, 99, 99, 99, 99, 99, 100, 100, 100, 100, 100, 100, 100, 100, 100, 100]\n",
            "List into descending order\n",
            "[100, 100, 100, 100, 100, 100, 100, 100, 100, 100, 99, 99, 99, 99, 99, 99, 99, 99, 99, 98]\n",
            "[3, 3, 3, 3, 2, 2, 2, 2, 2, 2, 2, 2, 2, 1, 1, 1, 1, 1, 1, 1]\n"
          ]
        }
      ]
    },
    {
      "cell_type": "markdown",
      "metadata": {
        "id": "_OF-Xuj1UrW0"
      },
      "source": [
        "---\n",
        "### Exercise 7 - get statistics (max(), min(), sum() )\n",
        "\n",
        "Write a function which will:\n",
        "*   print the maximum and minimum numbers in the `nums` list  \n",
        "*   print the sum of the `nums` list\n",
        "*   calculate and print the average of the `nums` list (using `len()` to help)"
      ]
    },
    {
      "cell_type": "code",
      "metadata": {
        "id": "9YmYMenZVGod",
        "colab": {
          "base_uri": "https://localhost:8080/"
        },
        "outputId": "548f18d7-465e-48be-f288-c3d218a20051"
      },
      "source": [
        "def max_min():\n",
        "  print(\"Min: \",min(nums))\n",
        "  print(\"Max: \",max(nums))\n",
        "  print(\"Sum: \",sum(nums))\n",
        "  print(\"Avarage: \",sum(nums)/int(len(nums)))\n",
        "\n",
        "max_min()"
      ],
      "execution_count": 50,
      "outputs": [
        {
          "output_type": "stream",
          "name": "stdout",
          "text": [
            "Min:  1\n",
            "Max:  100\n",
            "Sum:  51663\n",
            "Avarage:  51.663\n"
          ]
        }
      ]
    },
    {
      "cell_type": "markdown",
      "metadata": {
        "id": "Mn4tHQ_KVbHa"
      },
      "source": [
        "---\n",
        "### Exercise 8 - percentage difference\n",
        "\n",
        "Write a function which will:\n",
        "*   generate a new list called **ex8_nums** using `get_num_list()`\n",
        "*   calculate and print the percentage difference between the first number in each list (as a percentage of the number in the nums list) (Hint:  find the difference between the two numbers, divide the difference by the number in `nums` and multiply by 100)\n",
        "*   calculate and print the percentage difference between the last numbers in each list in the same way\n",
        "*   calculate and print the percentage difference between the middle numbers in each list in the same way.\n",
        "*   calculate and print the percentage difference between the sums of each list in the same way"
      ]
    },
    {
      "cell_type": "code",
      "metadata": {
        "id": "nJCQjZIeZL0e",
        "colab": {
          "base_uri": "https://localhost:8080/"
        },
        "outputId": "4742e244-10b0-4dfa-a975-522f00d15f9f"
      },
      "source": [
        "def percentage_difference():\n",
        "  ex8_nums = get_num_list()\n",
        "  diff_first = abs((ex8_nums[0]-nums[0])/((ex8_nums[0]+nums[0])/2))*100\n",
        "  print(\"difference between\", ex8_nums[0],nums[0], \"the first number in each list \",round(diff_first,2),\"%\")\n",
        "\n",
        "  diff_last = abs((ex8_nums[-1] - nums[-1])/((ex8_nums[-1]+nums[-1])/2))*100\n",
        "  print(\"difference between\",ex8_nums[-1],nums[-1], \"the last numbers in each list \",round(diff_last,2),\"%\")\n",
        "\n",
        "  mid1=int(len(ex8_nums)/2)\n",
        "  mid2=int(len(nums)/2)\n",
        "  diff_mid = abs((ex8_nums[mid1] - nums[mid2])/((ex8_nums[mid1]+nums[mid2])/2))*100\n",
        "  print(\"difference between\", ex8_nums[mid1], nums[mid2] ,\"the middle numbers in each list \",round(diff_mid,2),\"%\")\n",
        "\n",
        "  sum1=int(sum(ex8_nums))\n",
        "  sum2=int(sum(nums))\n",
        "  diff_sum = abs((sum1 - sum2)/((sum1+sum2)/2))*100\n",
        "  print(\"ddifference between\", sum1, sum2, \"the sums of each list \",round(diff_sum,2),\"%\")\n",
        "\n",
        "percentage_difference()\n"
      ],
      "execution_count": 77,
      "outputs": [
        {
          "output_type": "stream",
          "name": "stdout",
          "text": [
            "difference between 18 93 the first number in each list  135.14 %\n",
            "difference between 91 63 the last numbers in each list  36.36 %\n",
            "difference between 61 2 the middle numbers in each list  187.3 %\n",
            "ddifference between 50044 51663 the sums of each list  3.18 %\n"
          ]
        }
      ]
    },
    {
      "cell_type": "markdown",
      "metadata": {
        "id": "HNs3lZmYawFO"
      },
      "source": [
        "---\n",
        "### Exercise 9 - characteristic counts\n",
        "\n",
        "Write a function which will:\n",
        "*  iterate through the `protected_characteristics` tuple and for each **characteristic**:\n",
        "*   *   count the number of occurrences of that `characteristic` in the `characteristics` list\n",
        "*   *   print the `protected_characteristic` and the **count**  \n",
        "\n",
        "Example expected output:\n",
        "\n",
        "age 100  \n",
        "disability 120  \n",
        "gender reassignment 120  \n",
        "marriage and civil partnership 111  \n",
        "pregnancy and maternity 103  \n",
        "race 106  \n",
        "religion or belief 95  \n",
        "sex 110  \n",
        "sexual orientation 113  \n",
        "\n",
        "Extra learning:  you can read [here](https://thispointer.com/python-how-to-pad-strings-with-zero-space-or-some-other-character/) how to justify the printed characteristic so that the output is organised into two columns as shown below:  \n",
        "![tabulated output](https://drive.google.com/uc?id=1CCXfX6K5ZeDefnq7vUsqxCDmqvcfY8Mz)\n",
        "\n",
        "\n",
        "\n"
      ]
    },
    {
      "cell_type": "code",
      "metadata": {
        "id": "GURT11albqUs",
        "colab": {
          "base_uri": "https://localhost:8080/"
        },
        "outputId": "c98761fa-4f81-4c7b-eb79-62bfd7000e13"
      },
      "source": [
        "def characteristic_counts():\n",
        "  print(\"Protected Characteristic\".ljust(30,' '),\"Frequency\\n\")\n",
        "\n",
        "  for i in range(len(protected_characteristics)):\n",
        "    charact_count = characteristics.count(protected_characteristics[i])\n",
        "    print(protected_characteristics[i].ljust(30,' '),charact_count)\n",
        "\n",
        "characteristic_counts()"
      ],
      "execution_count": 94,
      "outputs": [
        {
          "output_type": "stream",
          "name": "stdout",
          "text": [
            "Protected Characteristic       Frequency\n",
            "\n",
            "age                            294\n",
            "disability                     276\n",
            "gender reassignment            310\n",
            "marriage and civil partnership 254\n",
            "pregnancy and maternity        283\n",
            "race                           279\n",
            "religion or belief             292\n",
            "sex                            311\n",
            "sexual orientation             305\n"
          ]
        }
      ]
    },
    {
      "cell_type": "markdown",
      "metadata": {
        "id": "9Po7yQj-ds38"
      },
      "source": [
        "---\n",
        "### Exercise 10 - characteristics statistics\n",
        "\n",
        "Assuming that the `characteristics` list may have been taken from a study of cases that have been taken to court in relation to the Equality Act.  \n",
        "\n",
        "Write a function which will:\n",
        "\n",
        "*   find the most common characteristic resulting in court action, from this population\n",
        "*   print this in a message, e.g. The characteristic with the highest number of court cases is:  *characteristic*\n",
        "*   print the list of `protected_characteristics`, on one line if possible - see [here](https://www.geeksforgeeks.org/g-fact-25-print-single-multiple-variable-python/)\n",
        "*   ask the user to enter a characteristic that they would like to see statistics on and use a while loop to continue until the user has entered a valid characteristic\n",
        "*   print the characteristic, its frequency and the percentage that this frequency is of the whole population."
      ]
    },
    {
      "cell_type": "code",
      "metadata": {
        "id": "uk_I5z7UgbDs",
        "colab": {
          "base_uri": "https://localhost:8080/"
        },
        "outputId": "aaa990fc-d06b-447e-c595-450120c11a00"
      },
      "source": [
        "def characteristics_statistics():\n",
        "\n",
        "# Print most commn characteristic\n",
        "  charact_count_max = 0\n",
        "  for i in range(len(protected_characteristics)):\n",
        "    charact_count = characteristics.count(protected_characteristics[i])\n",
        "    if charact_count_max < charact_count:\n",
        "       charact_count_max = charact_count\n",
        "       charact_common = protected_characteristics[i]\n",
        "  print(\"The characteristic with the highest number of court cases is: \" , charact_common)\n",
        "\n",
        "# Print list on one line  \n",
        "  for i in range(len(protected_characteristics)):\n",
        "   print(protected_characteristics[i],end=\" \")\n",
        "  print(\"\\n\")\n",
        "#Ask user\n",
        "def get_user_char():\n",
        "  user_char = str(input(\"Enter characteristic: \"))\n",
        "  if  user_char in protected_characteristics:\n",
        "    print(\"User Characteristics: \", user_char)\n",
        "    print(\"Frequency: \", characteristics.count(user_char))\n",
        "    \n",
        "    sum = 0\n",
        "    for i in range(len(protected_characteristics)): \n",
        "      sum += characteristics.count(protected_characteristics[i])\n",
        "    percent_freq = 100*characteristics.count(user_char)/sum\n",
        "    print(\"percentage that this frequency is of the whole population: \",round(percent_freq,2),\"%\")\n",
        "\n",
        "  else:\n",
        "    print(\"Characteristic is not valid, please try againe: \") \n",
        "    get_user_char()\n",
        "\n",
        "\n",
        "\n",
        "characteristics_statistics()\n",
        "get_user_char()"
      ],
      "execution_count": 124,
      "outputs": [
        {
          "output_type": "stream",
          "name": "stdout",
          "text": [
            "The characteristic with the highest number of court cases is:  sex\n",
            "age disability gender reassignment marriage and civil partnership pregnancy and maternity race religion or belief sex sexual orientation \n",
            "\n",
            "Enter characteristic: fffff\n",
            "Characteristic is not valid, please try againe: \n",
            "Enter characteristic: sex\n",
            "User Characteristics:  sex\n",
            "Frequency:  311\n",
            "percentage that this frequency is of the whole population:  11.94 %\n"
          ]
        }
      ]
    }
  ]
}