{
  "nbformat": 4,
  "nbformat_minor": 0,
  "metadata": {
    "colab": {
      "provenance": [],
      "include_colab_link": true
    },
    "kernelspec": {
      "name": "python3",
      "display_name": "Python 3"
    },
    "language_info": {
      "name": "python"
    }
  },
  "cells": [
    {
      "cell_type": "markdown",
      "metadata": {
        "id": "view-in-github",
        "colab_type": "text"
      },
      "source": [
        "<a href=\"https://colab.research.google.com/github/AnastasiiaKhao/MyCodeDivision/blob/main/Copy_of_Worksheet_functions_datetime.ipynb\" target=\"_parent\"><img src=\"https://colab.research.google.com/assets/colab-badge.svg\" alt=\"Open In Colab\"/></a>"
      ]
    },
    {
      "cell_type": "markdown",
      "metadata": {
        "id": "7iQyKP-SQiw1"
      },
      "source": [
        "# User-defined functions using datetime library\n",
        "\n",
        "---\n"
      ]
    },
    {
      "cell_type": "markdown",
      "metadata": {
        "id": "Vi93h5I4QnKs"
      },
      "source": [
        "When working with dates and times, fairly common in data sets, we need to be able to extract certain bits of information.  \n",
        "\n",
        "In Python, as with other languages, dates and times are stored in a data structure that combines the two together and stores the information as a number of seconds since a start point (often 1st January 1900).  This is obviously a large number but every bit of information about a date can be extracted from it and used to give a wide range of information.  \n",
        "\n",
        "Have a go at the exercises below to use a selection of datetime functions and return a new bit of data from each, to be printed by the caller.\n",
        "\n",
        "Before you can use datetime functions you will need to import them. Import the datetime functions like this:\n",
        "\n",
        "`from datetime import datetime`  \n",
        "\n",
        "\n",
        "For more information about datetime functions visit [w3Schools-Python datetime](https://www.w3schools.com/python/python_datetime.asp) and [Python docs](https://docs.python.org/3/library/datetime.html)"
      ]
    },
    {
      "cell_type": "markdown",
      "metadata": {
        "id": "MIDLi7CNR034"
      },
      "source": [
        "---\n",
        "### Exercise 1 - print current date and time\n",
        "\n",
        "Write a function that will return the date and time now.  The caller will print it.  \n",
        "\n",
        "*Hint:  the format has been added for you, the other exercises will follow a similar format.   Always remember to import datetime from datetime as shown below*"
      ]
    },
    {
      "cell_type": "code",
      "metadata": {
        "id": "gS6GJdXbQfHp",
        "colab": {
          "base_uri": "https://localhost:8080/"
        },
        "outputId": "189200f7-0787-4157-c2bb-fdabcaf35c45"
      },
      "source": [
        "from datetime import datetime, timezone\n",
        "# add your function, called get_datetime_now() below here\n",
        "def get_datetime_now():\n",
        "  return(datetime.now())\n",
        "\n",
        "now_date_time = get_datetime_now()\n",
        "print(now_date_time)"
      ],
      "execution_count": 7,
      "outputs": [
        {
          "output_type": "stream",
          "name": "stdout",
          "text": [
            "2022-12-04 22:04:37.388171\n"
          ]
        }
      ]
    },
    {
      "cell_type": "markdown",
      "metadata": {
        "id": "Yy24sL0bUtpF"
      },
      "source": [
        "---\n",
        "Exercise 2 - print the current year\n",
        "\n",
        "Write a function that will return the current year.  The caller will print the year."
      ]
    },
    {
      "cell_type": "code",
      "metadata": {
        "id": "YqlQqPIqUtyr",
        "colab": {
          "base_uri": "https://localhost:8080/"
        },
        "outputId": "df55bc16-e6fd-4291-a3c5-76d46591af6e"
      },
      "source": [
        "from datetime import datetime, timezone\n",
        "def get_year_now():\n",
        "  return(datetime.today().year)\n",
        "\n",
        "now_year = get_year_now()\n",
        "print(now_year)"
      ],
      "execution_count": 8,
      "outputs": [
        {
          "output_type": "stream",
          "name": "stdout",
          "text": [
            "2022\n"
          ]
        }
      ]
    },
    {
      "cell_type": "markdown",
      "metadata": {
        "id": "FzSVCaJKV1O1"
      },
      "source": [
        "---\n",
        "### Exercise 3 - print the current day of the week\n",
        "\n",
        "Write a function that will return the current day of the week.  The caller will print it."
      ]
    },
    {
      "cell_type": "code",
      "metadata": {
        "id": "OP4ZIXBWV1Yj",
        "colab": {
          "base_uri": "https://localhost:8080/"
        },
        "outputId": "ecfcc62d-c7cf-42ad-a714-f382ce925e28"
      },
      "source": [
        "from datetime import datetime, timezone\n",
        "def get_day_now():\n",
        "  dt = datetime.now()\n",
        "  return(dt.strftime('%A'))\n",
        "now_day = get_day_now()\n",
        "print(now_day)"
      ],
      "execution_count": 14,
      "outputs": [
        {
          "output_type": "stream",
          "name": "stdout",
          "text": [
            "Sunday\n"
          ]
        }
      ]
    },
    {
      "cell_type": "markdown",
      "metadata": {
        "id": "a8euCtdmWIDE"
      },
      "source": [
        "---\n",
        "### Exercise 4 - create a new date\n",
        "\n",
        "Write a function that will take 3 parameters, day, month, year (3 numbers that make a valid date) and will create, and return a new date.  The caller will print the date."
      ]
    },
    {
      "cell_type": "code",
      "metadata": {
        "id": "FbOFnTwnWILN",
        "colab": {
          "base_uri": "https://localhost:8080/"
        },
        "outputId": "804a0c6e-599b-4b6a-a7d2-38f81df37b22"
      },
      "source": [
        "from datetime import datetime\n",
        "def get_date(day,month,year):\n",
        "  new_date = datetime(year,month,day)\n",
        "  return(new_date.strftime('%D'))\n",
        "x = get_date(28,5,2015)\n",
        "print(x)\n"
      ],
      "execution_count": 28,
      "outputs": [
        {
          "output_type": "stream",
          "name": "stdout",
          "text": [
            "05/28/15\n"
          ]
        }
      ]
    },
    {
      "cell_type": "markdown",
      "metadata": {
        "id": "f5SKVuE0WfcE"
      },
      "source": [
        "---\n",
        "### Exercise 5 - create a valid date\n",
        "\n",
        "Write a function that will take 3 parameters, day, month, year (3 numbers) and will:  \n",
        "*   check that the month is between 1 and 12  \n",
        "*   check that the day is valid for the month (e.g. if the month is 2, then the day must be between 1 and 28 (don't worry about leap years for the moment)  \n",
        "*   if the date is not valid, print an error message and return None (which the caller will print)  \n",
        "*   if the date is valid, store it in a new variable, return the variable and the caller will print it."
      ]
    },
    {
      "cell_type": "code",
      "metadata": {
        "id": "gclt-f9-XfdG",
        "colab": {
          "base_uri": "https://localhost:8080/"
        },
        "outputId": "5217bd86-1f20-47e0-b35a-50db2cdfc121"
      },
      "source": [
        "def get_date(day,month,year):\n",
        "   if month == 2:\n",
        "     if 1<= day <=28:\n",
        "       new_date = datetime(year,month,day)\n",
        "       return(new_date.strftime('%D'))\n",
        "   if 1<= month <=12 and month !=2: \n",
        "     if 1<= day <=31:\n",
        "      new_date = datetime(year,month,day)\n",
        "      return(new_date.strftime('%D'))\n",
        "     else:\n",
        "      print(\"The date is not valid\")\n",
        "      return None\n",
        "   else:\n",
        "     print(\"The date is not valid\")\n",
        "     return None\n",
        "    \n",
        "\n",
        "new_date = get_date(29,2,2015)\n",
        "print(new_date)\n",
        "new_date = get_date(28,2,2015)\n",
        "print(new_date)\n",
        "new_date = get_date(42,9,2015)\n",
        "print(new_date)"
      ],
      "execution_count": 52,
      "outputs": [
        {
          "output_type": "stream",
          "name": "stdout",
          "text": [
            "The date is not valid\n",
            "None\n",
            "02/28/15\n",
            "The date is not valid\n",
            "None\n"
          ]
        }
      ]
    },
    {
      "cell_type": "markdown",
      "metadata": {
        "id": "js7fy2HWXfm2"
      },
      "source": [
        "---\n",
        "### Exercise 6 - is it a leap year?\n",
        "\n",
        "Write a function that will take a date as a parameter (you will need to create the date variable before calling the function) and will determine if it is a leap year, returning True or False.\n",
        "\n",
        "*Hint:  a leap year is a year that is divisible by 4 but the centuries (1900, 2000, etc are only leap years if they are divisible by 400)*"
      ]
    },
    {
      "cell_type": "code",
      "metadata": {
        "id": "KY1jtf3lX_ps",
        "colab": {
          "base_uri": "https://localhost:8080/"
        },
        "outputId": "82e85177-993d-4a6b-a670-acff6ed39fb9"
      },
      "source": [
        "from datetime import datetime\n",
        "def is_leap_year(date_to_check):\n",
        "  year = int(date_to_check.strftime('%Y'))\n",
        "  if year %100 == 0:\n",
        "    if  year %400 == 0:\n",
        "      return True\n",
        "  if year %4 == 0:\n",
        "    return True\n",
        "  else:\n",
        "    return False\n",
        "  \n",
        "check_date = datetime(1997, 12, 15)\n",
        "if is_leap_year(check_date):\n",
        "  print(check_date.strftime(\"%Y\"), \"is a leap year\")\n",
        "else:\n",
        "  print(check_date.strftime(\"%Y\"), \"is not a leap year\")\n"
      ],
      "execution_count": 66,
      "outputs": [
        {
          "output_type": "stream",
          "name": "stdout",
          "text": [
            "1997 is not a leap year\n"
          ]
        }
      ]
    },
    {
      "cell_type": "markdown",
      "metadata": {
        "id": "9BuRDi08YAO0"
      },
      "source": [
        "---\n",
        "### Exercise 7 - display parts of date/time\n",
        "\n",
        "Write a function that will take a date and print from it the following:  \n",
        "*  given date and time  \n",
        "*  year (in full) \n",
        "*  month (as a number) \n",
        "*  month name \n",
        "*  week number of the year  \n",
        "*  weekday of the week (as a number)  \n",
        "*  day of year  \n",
        "*  day of the month  \n",
        "*  day of week (as a name)  \n",
        "\n",
        "*Hint:  see w3Schools for [strftime reference](https://www.w3schools.com/python/python_datetime.asp)*\n",
        "\n"
      ]
    },
    {
      "cell_type": "code",
      "metadata": {
        "id": "zl-37Ez9ahym",
        "colab": {
          "base_uri": "https://localhost:8080/"
        },
        "outputId": "cd859c9b-770d-44fa-b7f1-19ac5a0f1e0b"
      },
      "source": [
        "def get_date(day,month,year):\n",
        "   if month == 2:\n",
        "     if 1<= day <=28:\n",
        "       new_date = datetime(year,month,day)\n",
        "       print(\"Date and Time: \" + new_date.strftime('%D'))\n",
        "       print(\"Year: \" + new_date.strftime('%Y'))\n",
        "       print(\"Month (as a number): \" + new_date.strftime('%m'))\n",
        "       print(\"Month name: \" + new_date.strftime('%B'))\n",
        "       print(\"Week number of the year: \" + new_date.strftime('%U'))\n",
        "       print(\"Weekday of the week (as a number): \" + new_date.strftime('%w'))\n",
        "       print(\"Day of year: \" + new_date.strftime('%j'))\n",
        "       print(\"Day of the month: \" + new_date.strftime('%d'))\n",
        "       print(\"Day of week (as a name): \" + new_date.strftime('%A'))\n",
        "       \n",
        "   if 1<= month <=12 and month !=2: \n",
        "     if 1<= day <=31:\n",
        "      new_date = datetime(year,month,day)\n",
        "      print(\"Date and Time: \" + new_date.strftime('%D'))\n",
        "      print(\"Year: \" + new_date.strftime('%Y'))\n",
        "      print(\"Month (as a number): \" + new_date.strftime('%m'))\n",
        "      print(\"Month name: \" + new_date.strftime('%B'))\n",
        "      print(\"Week number of the year: \" + new_date.strftime('%U'))\n",
        "      print(\"Weekday of the week (as a number): \" + new_date.strftime('%w'))\n",
        "      print(\"Day of year: \" + new_date.strftime('%j'))\n",
        "      print(\"Day of the month: \" + new_date.strftime('%d'))\n",
        "      print(\"Day of week (as a name): \" + new_date.strftime('%A'))\n",
        "      \n",
        "   else:\n",
        "      print(\"The date is not valid\")\n",
        "      \n",
        "new_date = get_date(29,9,2015)"
      ],
      "execution_count": 73,
      "outputs": [
        {
          "output_type": "stream",
          "name": "stdout",
          "text": [
            "Date and Time: 09/29/15\n",
            "Year: 2015\n",
            "Month (as a number): 09\n",
            "Month name: September\n",
            "Week number of the year: 39\n",
            "Weekday of the week (as a number): 2\n",
            "Day of year: 272\n",
            "Day of the month: 29\n",
            "Day of week (as a name): Tuesday\n"
          ]
        }
      ]
    },
    {
      "cell_type": "markdown",
      "metadata": {
        "id": "_rpTIoSDaiBj"
      },
      "source": [
        "---\n",
        "### Exercise 8 - next 6 days\n",
        "\n",
        "Write a function that will take a date and generate the dates of the following 6 days.  It should print each of the 6 days in the form:  \n",
        "\n",
        "DAY OF THE WEEK, MONTH NAME, FULL YEAR\n",
        "\n",
        "Hint:  to generate the days, use the function datetime.timedelta(), there is a good example of its use [here](https://www.geeksforgeeks.org/python-datetime-timedelta-function/)  "
      ]
    },
    {
      "cell_type": "code",
      "metadata": {
        "id": "1d-oXqLLb0vX",
        "colab": {
          "base_uri": "https://localhost:8080/"
        },
        "outputId": "9a0aad69-6435-4c4a-b899-6fa46adcbc83"
      },
      "source": [
        "from datetime import timedelta\n",
        "def get_date(day,month,year):\n",
        "   if month == 2:\n",
        "     if 1<= day <=28:\n",
        "       giv_date = datetime(year,month,day)\n",
        "       for i in range(1,7):\n",
        "        next_date = giv_date + timedelta(days = i)\n",
        "        print(next_date.strftime(\"%d %B %Y\"))\n",
        "       \n",
        "   if 1<= month <=12 and month !=2: \n",
        "     if 1<= day <=31:\n",
        "       giv_date = datetime(year,month,day)\n",
        "       for i in range(1,7):\n",
        "        next_date = giv_date + timedelta(days = i)\n",
        "        print(next_date.strftime(\"%d %B %Y\"))\n",
        "      \n",
        "   else:\n",
        "      print(\"The date is not valid\")\n",
        "      \n",
        "new_date = get_date(29,9,2015)"
      ],
      "execution_count": 78,
      "outputs": [
        {
          "output_type": "stream",
          "name": "stdout",
          "text": [
            "30 September 2015\n",
            "01 October 2015\n",
            "02 October 2015\n",
            "03 October 2015\n",
            "04 October 2015\n",
            "05 October 2015\n"
          ]
        }
      ]
    },
    {
      "cell_type": "markdown",
      "metadata": {
        "id": "22Rhwx2Sb1Ey"
      },
      "source": [
        "---\n",
        "### Optional extra practice\n",
        "\n",
        "There are some similar and some more challenging exercises [here](https://www.w3resource.com/python-exercises/date-time-exercise/) if you would like to practice more. The site has its own editor."
      ]
    }
  ]
}