{
  "nbformat": 4,
  "nbformat_minor": 0,
  "metadata": {
    "colab": {
      "provenance": [],
      "include_colab_link": true
    },
    "kernelspec": {
      "name": "python3",
      "display_name": "Python 3"
    },
    "language_info": {
      "name": "python"
    }
  },
  "cells": [
    {
      "cell_type": "markdown",
      "metadata": {
        "id": "view-in-github",
        "colab_type": "text"
      },
      "source": [
        "<a href=\"https://colab.research.google.com/github/AnastasiiaKhao/MyCodeDivision/blob/main/Copy_of_Working_with_Data_Lists.ipynb\" target=\"_parent\"><img src=\"https://colab.research.google.com/assets/colab-badge.svg\" alt=\"Open In Colab\"/></a>"
      ]
    },
    {
      "cell_type": "markdown",
      "metadata": {
        "id": "Z-M-RCWATK71"
      },
      "source": [
        "# Lists\n",
        "\n",
        "Often we need to store a number of single items of data together so that they can be processed together. This might be because all the data refers to one person (e.g. name, age, gender, etc) OR it might be because we have a set of data (e.g. all the items that should be displayed in a drop down list, such as all the years from this year back to 100 years ago so that someone can select their year of birth)\n",
        "\n",
        "Python has a range of data structures available including:\n",
        "*   lists  \n",
        "*   tuples  \n",
        "*   dictionaries  \n",
        "*   sets\n",
        "\n",
        "This worksheet looks at lists.\n",
        "\n",
        "## List\n",
        "A list is a set of related, individual data objects, that are indexed and can be processed as a whole, as subsets or as individual items.  Lists are stored, essentially, as contiguous items in memory so that access can be as quick as possible.  However, they are mutable (they can be changed after they have been created and stored) and so they need to have extra functionality to deal with changing list sizes.\n",
        "\n",
        "# Let's get some lists of data\n",
        "For this worksheet we are going to work with data on STEAM games.  We are going to get the data from a spreadsheet and make lists that we can find things out from.\n",
        "\n"
      ]
    },
    {
      "cell_type": "markdown",
      "source": [
        "# Creating a list\n",
        "```\n",
        "nums = [1, 2, 3, 4, 5]\n",
        "names = [\"Tom\",\"Jerry\",\"Spike\"]\n",
        "```"
      ],
      "metadata": {
        "id": "TUvfamdEweE1"
      }
    },
    {
      "cell_type": "markdown",
      "source": [
        "# Printing a list\n",
        "\n",
        "```\n",
        "print(nums)\n",
        "[1,2,3,4,5]\n",
        "```\n",
        "\n",
        "```\n",
        "print(names)\n",
        "[\"Tom\",\"Jerry\",\"Spike\"]\n",
        "```"
      ],
      "metadata": {
        "id": "TdbhgKdjw8RN"
      }
    },
    {
      "cell_type": "code",
      "source": [
        "# create the lists, and print them\n",
        "nums = [1,2,3,4,5]\n",
        "names = [\"Tom\", \"Jerry\", \"Spike\"]\n",
        "print(nums)\n",
        "print(names)"
      ],
      "metadata": {
        "colab": {
          "base_uri": "https://localhost:8080/"
        },
        "id": "MiigkTzM0cLT",
        "outputId": "ecc5479f-7e27-47c4-e38c-b3fc03a449d3"
      },
      "execution_count": null,
      "outputs": [
        {
          "output_type": "stream",
          "name": "stdout",
          "text": [
            "[1, 2, 3, 4, 5]\n",
            "['Tom', 'Jerry', 'Spike']\n"
          ]
        }
      ]
    },
    {
      "cell_type": "markdown",
      "source": [
        "# Print individual items in the list\n",
        "\n",
        "We can access any item in a list by its position (index).  Lists are indexed from 0.\n",
        "\n",
        "To print the first item in a list, use listname[0], to print the last item use listname[-1].\n",
        "\n",
        "```\n",
        "# This is formatted as code\n",
        "```\n",
        "\n",
        "\n",
        "\n",
        "```\n",
        "print(nums[0])\n",
        "1\n",
        "```\n",
        "```\n",
        "print(names[1])\n",
        "Jerry\n",
        "```\n",
        "\n",
        "```\n",
        "print(nums[-1])\n",
        "5\n",
        "```\n"
      ],
      "metadata": {
        "id": "bCV4jL3mxRlx"
      }
    },
    {
      "cell_type": "code",
      "source": [
        "# have a go at printing different items from the lists\n",
        "print(nums[0])\n",
        "print(names[1])\n",
        "print(nums[-1])"
      ],
      "metadata": {
        "colab": {
          "base_uri": "https://localhost:8080/"
        },
        "id": "zRiLBj7G0HWd",
        "outputId": "062670e8-a679-45e8-83af-debe443a04db"
      },
      "execution_count": null,
      "outputs": [
        {
          "output_type": "stream",
          "name": "stdout",
          "text": [
            "1\n",
            "Jerry\n",
            "5\n"
          ]
        }
      ]
    },
    {
      "cell_type": "markdown",
      "source": [
        "# Print a subset of a list\n",
        "\n",
        "listname[start_index : end_index+1]  \n",
        "If start_index is the first item, or end_index is the end of the list, they can be left out\n",
        "\n",
        "```\n",
        "print(nums[:3])\n",
        "[1,2,3]\n",
        "```\n",
        "\n",
        "```\n",
        "print(names[1:])\n",
        "[\"Jerry\",\"Spike\"]\n",
        "```\n",
        "\n",
        "```\n",
        "print(nums[1:3])\n",
        "[2,3]\n",
        "```"
      ],
      "metadata": {
        "id": "flklC_z_x68p"
      }
    },
    {
      "cell_type": "code",
      "source": [
        "# have a go at printing subsets of the lists\n",
        "print(nums[:3])\n",
        "print(names[1:])\n",
        "print(nums[1:3])"
      ],
      "metadata": {
        "colab": {
          "base_uri": "https://localhost:8080/"
        },
        "id": "Axf9WFjJ0NXE",
        "outputId": "fd034c6a-1111-4059-9fbf-ac1804862db8"
      },
      "execution_count": null,
      "outputs": [
        {
          "output_type": "stream",
          "name": "stdout",
          "text": [
            "[1, 2, 3]\n",
            "['Jerry', 'Spike']\n",
            "[2, 3]\n"
          ]
        }
      ]
    },
    {
      "cell_type": "markdown",
      "source": [
        "# List length\n",
        "\n",
        "Use the len() function to get the number of items in a list.\n",
        "\n",
        "There are 5 items in the nums list and 3 in the names list.\n",
        "\n",
        "Write a function that will:\n",
        "* print the length of the nums list\n",
        "* print the length of the names list\n",
        "* concatenate (add) the two lists together to make a new list called num_names\n",
        "* print the length of the new list\n",
        "\n",
        "Expected output:\n",
        "```\n",
        "The length of the nums list is: 5\n",
        "The length of the names list is: 3\n",
        "The length of the joined list is: 8\n",
        "```\n"
      ],
      "metadata": {
        "id": "OFTklrSRuhpz"
      }
    },
    {
      "cell_type": "code",
      "source": [
        "def print_list_info():\n",
        "  print(\"The length of the nums list is:\", len(nums))\n",
        "  print(\"The length of the names list is:\", len(names))\n",
        "  nums_names = nums + names\n",
        "  print(\"The length of the joined list is:\", len(nums_names))\n",
        "\n",
        "print_list_info()"
      ],
      "metadata": {
        "colab": {
          "base_uri": "https://localhost:8080/"
        },
        "id": "OLQfwEaDvPNT",
        "outputId": "1e3abb79-bcae-4e1d-a082-b730a0ad3d6d"
      },
      "execution_count": null,
      "outputs": [
        {
          "output_type": "stream",
          "name": "stdout",
          "text": [
            "The length of the nums list is: 5\n",
            "The length of the names list is: 3\n",
            "The length of the joined list is: 8\n"
          ]
        }
      ]
    },
    {
      "cell_type": "markdown",
      "source": [
        "# List methods\n",
        "\n",
        "You can get an overview of the methods you can use here: https://www.w3schools.com/python/python_lists_methods.asp\n",
        "\n",
        "Then: \n",
        "1.  Create the nums and names list again \n",
        "2.  Append the number 6 to the nums list, and print\n",
        "3.  Insert the name \"Sylvester\" before \"Jerry\" in the names list and print\n",
        "4.  Print the length of the nums list\n",
        "5.  Remove the number 4 from the nums list, and print\n",
        "6.  Print the max and min of the nums list\n",
        "7.  Create a new list called new_nums which contains the numbers 40 to 50 (use the range function)\n",
        "\n",
        "Expected output:  \n"
      ],
      "metadata": {
        "id": "tBN4Shtd12on"
      }
    },
    {
      "cell_type": "code",
      "source": [
        "nums = [1,2,3,4,5]\n",
        "names = [\"Tom\", \"Jerry\",\"Spike\"]\n",
        "nums.append(6)\n",
        "print(nums)\n",
        "names.insert(1, \"Sylvester\")\n",
        "print(names)\n",
        "print(len(nums))\n",
        "nums.remove(4)\n",
        "print(nums)\n",
        "print(max(nums), min(nums))\n",
        "new_nums = range(40,51)\n",
        "print(new_nums)\n"
      ],
      "metadata": {
        "colab": {
          "base_uri": "https://localhost:8080/"
        },
        "id": "goe4w-yw4BVt",
        "outputId": "5f2a7ff4-9f16-4977-ea60-9c981b419a62"
      },
      "execution_count": null,
      "outputs": [
        {
          "output_type": "stream",
          "name": "stdout",
          "text": [
            "[1, 2, 3, 4, 5, 6]\n",
            "['Tom', 'Sylvester', 'Jerry', 'Spike']\n",
            "6\n",
            "[1, 2, 3, 5, 6]\n",
            "6 1\n",
            "range(40, 51)\n"
          ]
        }
      ]
    },
    {
      "cell_type": "markdown",
      "source": [
        "# Now some real data\n",
        "---\n",
        "\n",
        "1.  Open the STEAM csv file (which we have taken from Kaggle and have reduced to make it more manageable): https://drive.google.com/file/d/1rkG8-cp-KLBc1zK4YMLHIsMMyyTVk5Ju/view?usp=sharing\n",
        "\n",
        "\n",
        "2.  Open the file with Google sheets to see what is in it.  The file contains rows of data, each with a user id and a game that the user has purchased.\n",
        "\n",
        "3.  NOW, run the code in the cell below to get:  \n",
        "- users (the list of user ids in the data)\n",
        "- titles (the list of titles that have been purchased)"
      ],
      "metadata": {
        "id": "T2tA2VavJx9Q"
      }
    },
    {
      "cell_type": "code",
      "source": [
        "import pandas as pd\n",
        "\n",
        "# open the data file and get a copy of the Titles column\n",
        "def get_users_and_titles():\n",
        "  url = \"https://drive.google.com/uc?export=download&id=1rkG8-cp-KLBc1zK4YMLHIsMMyyTVk5Ju\"\n",
        "  data_table = pd.read_csv(url)\n",
        "  return data_table[\"User\"].tolist(), data_table[\"Title\"].tolist() \n",
        "\n",
        "users, titles = get_users_and_titles()"
      ],
      "metadata": {
        "id": "8YyBIyoCmz5s"
      },
      "execution_count": null,
      "outputs": []
    },
    {
      "cell_type": "markdown",
      "metadata": {
        "id": "Ft0dXl7fUuaK"
      },
      "source": [
        "---\n",
        "### Exercise 1 - list head, tail and length of the titles list\n",
        "---\n",
        "\n",
        "Write a function, **describe_list()** which will:\n",
        "*  print the length of the list `titles`\n",
        "*  print the first 10 items in `titles` (the head)  \n",
        "*  print the last 5 items in `titles` (the tail)\n",
        "\n",
        "Expected output:  \n",
        "```\n",
        "129511\n",
        "['The Elder Scrolls V Skyrim', 'Fallout 4', 'Spore', 'Fallout New Vegas', 'Left 4 Dead 2', 'HuniePop', 'Path of Exile', 'Poly Bridge', 'Left 4 Dead', 'Team Fortress 2']\n",
        "['Fallen Earth', 'Magic Duels', 'Titan Souls', 'Grand Theft Auto Vice City', 'RUSH']\n",
        "```"
      ]
    },
    {
      "cell_type": "code",
      "metadata": {
        "id": "jUcZD7mmTJdA",
        "colab": {
          "base_uri": "https://localhost:8080/"
        },
        "outputId": "7ca6d53d-4b65-4178-fddd-7089a01f4343"
      },
      "source": [
        "def describe_list():\n",
        "  print(len(titles))\n",
        "  print(titles[:10])\n",
        "  print(titles[len(titles)-5:])\n",
        "\n",
        "describe_list()"
      ],
      "execution_count": 7,
      "outputs": [
        {
          "output_type": "stream",
          "name": "stdout",
          "text": [
            "129511\n",
            "['The Elder Scrolls V Skyrim', 'Fallout 4', 'Spore', 'Fallout New Vegas', 'Left 4 Dead 2', 'HuniePop', 'Path of Exile', 'Poly Bridge', 'Left 4 Dead', 'Team Fortress 2']\n",
            "['Fallen Earth', 'Magic Duels', 'Titan Souls', 'Grand Theft Auto Vice City', 'RUSH']\n"
          ]
        }
      ]
    },
    {
      "cell_type": "markdown",
      "metadata": {
        "id": "yNWg08k6bXv0"
      },
      "source": [
        "---\n",
        "### Exercise 2 - use a loop to print the first 20 items\n",
        "\n",
        "Write a function which will:\n",
        "*  create a new list from the first 20 items of the titles list\n",
        "*  loop through the new list and print each item\n"
      ]
    },
    {
      "cell_type": "code",
      "metadata": {
        "id": "P2HnCG9pb1BS",
        "colab": {
          "base_uri": "https://localhost:8080/"
        },
        "outputId": "01f4f9db-4fd6-4201-d492-fc1195cef94e"
      },
      "source": [
        "def print_list():\n",
        "  new_list = titles[:20]\n",
        "  for i in range(int(len(new_list))):\n",
        "    print(new_list[i])\n",
        "\n",
        "print_list()"
      ],
      "execution_count": 10,
      "outputs": [
        {
          "output_type": "stream",
          "name": "stdout",
          "text": [
            "The Elder Scrolls V Skyrim\n",
            "Fallout 4\n",
            "Spore\n",
            "Fallout New Vegas\n",
            "Left 4 Dead 2\n",
            "HuniePop\n",
            "Path of Exile\n",
            "Poly Bridge\n",
            "Left 4 Dead\n",
            "Team Fortress 2\n",
            "Tomb Raider\n",
            "The Banner Saga\n",
            "Dead Island Epidemic\n",
            "BioShock Infinite\n",
            "Dragon Age Origins - Ultimate Edition\n",
            "Fallout 3 - Game of the Year Edition\n",
            "SEGA Genesis & Mega Drive Classics\n",
            "Grand Theft Auto IV\n",
            "Realm of the Mad God\n",
            "Marvel Heroes 2015\n"
          ]
        }
      ]
    },
    {
      "cell_type": "markdown",
      "metadata": {
        "id": "RTSuQZs4b1JU"
      },
      "source": [
        "---\n",
        "### Exercise 3 - count the number of times a title appears in the list\n",
        "\n",
        "Write a function which will:\n",
        "*  count the number of times that the title Fallout 4 appears in the list\n",
        "\n",
        "Expected output:  \n",
        "168"
      ]
    },
    {
      "cell_type": "code",
      "metadata": {
        "id": "OwhFnH2kdC11",
        "colab": {
          "base_uri": "https://localhost:8080/"
        },
        "outputId": "d25291b6-701a-48e5-d26d-b7e38485270f"
      },
      "source": [
        "def count_title():\n",
        "  count_times = 0\n",
        "  for i in range(int(len(titles))):\n",
        "    if titles[i] == \"Fallout 4\":\n",
        "      count_times +=1\n",
        "  return count_times\n",
        "\n",
        "print(count_title())"
      ],
      "execution_count": 11,
      "outputs": [
        {
          "output_type": "stream",
          "name": "stdout",
          "text": [
            "168\n"
          ]
        }
      ]
    },
    {
      "cell_type": "markdown",
      "metadata": {
        "id": "KS0x3oFNePI9"
      },
      "source": [
        "---\n",
        "### Exercise 4 - remove all duplicates of a title from the list\n",
        "\n",
        "Write a function which will: remove all occurences of Fallout 4 from the titles list (Hint:  you can remove an occurence of Fallout 4 repeatedly until there is only one left)\n"
      ]
    },
    {
      "cell_type": "code",
      "metadata": {
        "id": "mpK1Ip3we-uC"
      },
      "source": [
        "def remove_duplicates():\n",
        "  len_list = int(len(titles))\n",
        "  for i in range(len_list):\n",
        "    if titles[i] == \"Fallout 4\":\n",
        "      titles.remove(titles[i])\n",
        "      len_list -=1\n",
        "  \n",
        "remove_duplicates()"
      ],
      "execution_count": 16,
      "outputs": []
    },
    {
      "cell_type": "markdown",
      "metadata": {
        "id": "deUIFWjRe-3G"
      },
      "source": [
        "---\n",
        "### Exercise 5 - print the counts of the first 10 titles in the list\n",
        "\n",
        "Write a function which will:\n",
        "* loop through the first 10 items in the titles list\n",
        "* for each item print the number of times that title appears in the list\n"
      ]
    },
    {
      "cell_type": "code",
      "metadata": {
        "id": "b9TrHQ9hfoIU",
        "colab": {
          "base_uri": "https://localhost:8080/"
        },
        "outputId": "762a14fa-7fe0-4184-a432-9d486fa85912"
      },
      "source": [
        "def print_count_of_first_ten():\n",
        "  for i in range(10):\n",
        "    count = 0\n",
        "    for k in range(int(len(titles))): \n",
        "      if titles[i] == titles[k]:\n",
        "        count += 1\n",
        "    print(titles[i], \"appears in the list\", count , \"times\")\n",
        "\n",
        "users, titles = get_users_and_titles()\n",
        "print_count_of_first_ten()"
      ],
      "execution_count": 21,
      "outputs": [
        {
          "output_type": "stream",
          "name": "stdout",
          "text": [
            "The Elder Scrolls V Skyrim appears in the list 717 times\n",
            "Fallout 4 appears in the list 168 times\n",
            "Spore appears in the list 67 times\n",
            "Fallout New Vegas appears in the list 337 times\n",
            "Left 4 Dead 2 appears in the list 951 times\n",
            "HuniePop appears in the list 22 times\n",
            "Path of Exile appears in the list 339 times\n",
            "Poly Bridge appears in the list 12 times\n",
            "Left 4 Dead appears in the list 281 times\n",
            "Team Fortress 2 appears in the list 2323 times\n"
          ]
        }
      ]
    },
    {
      "cell_type": "markdown",
      "metadata": {
        "id": "zm2VI5RmfoSy"
      },
      "source": [
        "---\n",
        "### Project - work as a team\n",
        "\n",
        "The users list has the ids of all the users who have purchased STEAM games.\n",
        "\n",
        "Write a function that will:\n",
        "* count how many games have been purchased by each user.  \n",
        "* calculate the percentage of all purchases made by each user\n",
        "* calculate the percentage of all purchases made by these 100 users altogether\n",
        "* find the id of the user who has purchased the most games of these 100 users \n",
        "* calculate the average number of games purchased by a user from the 100 \n",
        "* print this information, printing each unique user just once  \n",
        "Do the same with the last 100 users  \n",
        "\n",
        "Divide up the tasks and each write one part, then try to get them all to work together."
      ]
    },
    {
      "cell_type": "markdown",
      "source": [
        "### Practice 1\n",
        "---\n",
        "Get a list of unique user ids\n",
        "\n",
        "Write some code that will loop through the users list and add each new user id to a new list called **unique_users**\n",
        "\n",
        "**Expected output**:\n",
        "12393"
      ],
      "metadata": {
        "id": "rnEnIN0X_kR1"
      }
    },
    {
      "cell_type": "code",
      "source": [
        "# get list of unique user ids\n",
        "def get_unique_user_ids():\n",
        "  for i in range(int(len(users))):\n",
        "    if users[i] not in unique_users:\n",
        "      unique_users.append(users[i])\n",
        "  return(unique_users)\n",
        "  \n",
        "unique_users = []\n",
        "print(len(get_unique_user_ids()))"
      ],
      "metadata": {
        "id": "gf7o-I1GAACe",
        "colab": {
          "base_uri": "https://localhost:8080/"
        },
        "outputId": "3df5b764-8fa3-468a-cc27-91f168e8554f"
      },
      "execution_count": 37,
      "outputs": [
        {
          "output_type": "stream",
          "name": "stdout",
          "text": [
            "12393\n"
          ]
        }
      ]
    },
    {
      "cell_type": "markdown",
      "source": [
        "### Practice 2\n",
        "---\n",
        "\n",
        "Write code that will create a subset of the unique_users list, containing just the first 100 users and called **hundred_users**.  Loop through the hundred_users list and for each, will print the number of games that user has purchased (`users.count(unique_user`)\n",
        "\n",
        "**Expected output**:\n",
        "```\n",
        "40\n",
        "1\n",
        "43\n",
        "505\n",
        "1\n",
        "...\n",
        "...\n",
        "2\n",
        "18\n",
        "27\n",
        "1\n",
        "33\n",
        "```"
      ],
      "metadata": {
        "id": "aaguOOlbArIN"
      }
    },
    {
      "cell_type": "code",
      "source": [
        "# print number of games purchased by each of first hundred users\n",
        "hundred_users = unique_users[:100]\n",
        "def count_number_games():\n",
        "  for i in range(int(len(hundred_users))):\n",
        "    number_game = users.count(hundred_users[i])\n",
        "    print(number_game)\n",
        "\n",
        "count_number_games() "
      ],
      "metadata": {
        "id": "Q_Ov6QpjBIwN",
        "colab": {
          "base_uri": "https://localhost:8080/"
        },
        "outputId": "fa47a424-3c48-44be-e45d-25402cc1e915"
      },
      "execution_count": 38,
      "outputs": [
        {
          "output_type": "stream",
          "name": "stdout",
          "text": [
            "40\n",
            "1\n",
            "43\n",
            "505\n",
            "1\n",
            "1\n",
            "10\n",
            "1\n",
            "1\n",
            "1\n",
            "1\n",
            "1\n",
            "3\n",
            "1\n",
            "3\n",
            "1\n",
            "29\n",
            "1\n",
            "2\n",
            "2\n",
            "1\n",
            "1\n",
            "1\n",
            "4\n",
            "2\n",
            "1\n",
            "1\n",
            "1\n",
            "1\n",
            "2\n",
            "1\n",
            "1\n",
            "67\n",
            "5\n",
            "1\n",
            "1\n",
            "1\n",
            "11\n",
            "1\n",
            "2\n",
            "2\n",
            "6\n",
            "1\n",
            "1\n",
            "15\n",
            "13\n",
            "2\n",
            "8\n",
            "6\n",
            "127\n",
            "1\n",
            "1\n",
            "4\n",
            "458\n",
            "1\n",
            "2\n",
            "2\n",
            "31\n",
            "1\n",
            "4\n",
            "16\n",
            "1\n",
            "1\n",
            "1\n",
            "6\n",
            "11\n",
            "1\n",
            "1\n",
            "22\n",
            "1\n",
            "1\n",
            "1\n",
            "3\n",
            "5\n",
            "1\n",
            "1\n",
            "2\n",
            "1\n",
            "4\n",
            "3\n",
            "1\n",
            "1\n",
            "1\n",
            "1\n",
            "1\n",
            "2\n",
            "5\n",
            "4\n",
            "1\n",
            "1\n",
            "6\n",
            "2\n",
            "9\n",
            "3\n",
            "4\n",
            "2\n",
            "18\n",
            "27\n",
            "1\n",
            "33\n"
          ]
        }
      ]
    },
    {
      "cell_type": "markdown",
      "source": [
        "### Practice 3\n",
        "---\n",
        "Write code to calculate the percentage that the first user in the unique_user list has purchased of all the purchases made by users.  Print the users id and the percentage\n",
        "\n",
        "*Hint*:  get the count for that user (as in the last practice), divide it by the number of purchase made (the length of the original users list) and multiply by 100\n",
        "\n",
        "**Expected output**:  \n",
        "`151603712 0.03 %`"
      ],
      "metadata": {
        "id": "o4dWTE6aCBBb"
      }
    },
    {
      "cell_type": "code",
      "source": [
        "# Find percentage purchases bought by first user\n",
        "def calculate_percentage():\n",
        "  percent = int(users.count(unique_users[0]))/int(len(users))*100\n",
        "  print(unique_users[0], round(percent,2), \"%\")\n",
        "\n",
        "calculate_percentage()"
      ],
      "metadata": {
        "id": "corMMlyOCkON",
        "colab": {
          "base_uri": "https://localhost:8080/"
        },
        "outputId": "3024116e-b725-4c58-ace8-8b4d42a66139"
      },
      "execution_count": 39,
      "outputs": [
        {
          "output_type": "stream",
          "name": "stdout",
          "text": [
            "151603712 0.03 %\n"
          ]
        }
      ]
    },
    {
      "cell_type": "markdown",
      "source": [
        "### Practice 4\n",
        "---\n",
        "Write some code that will loop through the `hundred_users` and find the id of the user with the largest number of purchases\n",
        "\n",
        "**Expected output**:  \n",
        "```\n",
        "53875128\n",
        "```\n"
      ],
      "metadata": {
        "id": "vnOxgvPhE0M9"
      }
    },
    {
      "cell_type": "code",
      "source": [
        "# find user who has made most purchases\n",
        "def find_user_most_purchases():\n",
        "  max_purchases = 0\n",
        "  user_most_purch = \"\"\n",
        "  for i in range(int(len(hundred_users))):\n",
        "    count = users.count(hundred_users[i])\n",
        "    if count > max_purchases:\n",
        "      max_purchases = count\n",
        "      user_most_purch = hundred_users[i]\n",
        "  print(user_most_purch)\n",
        "\n",
        "find_user_most_purchases()"
      ],
      "metadata": {
        "id": "jO3NmUwjFLNO",
        "colab": {
          "base_uri": "https://localhost:8080/"
        },
        "outputId": "626cf924-f32f-41d3-e842-6e26d1995ff7"
      },
      "execution_count": 53,
      "outputs": [
        {
          "output_type": "stream",
          "name": "stdout",
          "text": [
            "53875128\n"
          ]
        }
      ]
    },
    {
      "cell_type": "markdown",
      "source": [
        "### Practice 5\n",
        "---\n",
        "Write some code that will loop through the `hundred_users`, add all the purchases made by them, then calculate this as a percentage of the total number of purchases made (as before)  divide by 100 (the number of users in this list) to get the average.\n",
        "\n",
        "**Expected output**:  \n",
        "```\n",
        "0.01 %\n",
        "\n",
        "```"
      ],
      "metadata": {
        "id": "Gsixx_x-FLWr"
      }
    },
    {
      "cell_type": "code",
      "source": [
        "# find percentage of total purchases made by first hundred users\n",
        "def average_hundred_purchase():\n",
        "  total = 0\n",
        "  for i in range(int(len(hundred_users))): \n",
        "    total += users.count(hundred_users[i]) \n",
        "  avarage = (total/int(len(users))*100)/100\n",
        "  print(round(avarage,2),\"%\")\n",
        "\n",
        "average_hundred_purchase()  "
      ],
      "metadata": {
        "id": "MD8nr8yYFaNI",
        "colab": {
          "base_uri": "https://localhost:8080/"
        },
        "outputId": "9bc31734-b32f-4422-e95e-8ef98cabdad2"
      },
      "execution_count": 61,
      "outputs": [
        {
          "output_type": "stream",
          "name": "stdout",
          "text": [
            "0.01 %\n"
          ]
        }
      ]
    },
    {
      "cell_type": "markdown",
      "source": [
        "### Practice 6\n",
        "---\n",
        "\n",
        "Write some code that will loop through the `hundred_users`, add all the purchases made by them, then divide by 100 (the number of users in this list) to get the average.\n",
        "\n",
        "**Expected output**:  \n",
        "```\n",
        "16.46\n",
        "\n",
        "```"
      ],
      "metadata": {
        "id": "M1bFW6XVFaaA"
      }
    },
    {
      "cell_type": "code",
      "source": [
        "# find average number of purchases made by first 100 users\n",
        "def average_purchase():\n",
        "  total = 0\n",
        "  for i in range(int(len(hundred_users))): \n",
        "    total += users.count(hundred_users[i]) \n",
        "  avarage = total/100\n",
        "  print(round(avarage,2))\n",
        "\n",
        "average_purchase()  "
      ],
      "metadata": {
        "id": "JBSp_focFvRO",
        "colab": {
          "base_uri": "https://localhost:8080/"
        },
        "outputId": "dbbb05fd-0177-4208-b314-a0770288c559"
      },
      "execution_count": 62,
      "outputs": [
        {
          "output_type": "stream",
          "name": "stdout",
          "text": [
            "16.46\n"
          ]
        }
      ]
    },
    {
      "cell_type": "markdown",
      "source": [
        "### Practice 7\n",
        "---\n",
        "Put all the above together into a function, and add code to print the average number of games per user, the user id of the user with the maximum number of purchases, and a list of the hundred users ids and the percentage each has purchased"
      ],
      "metadata": {
        "id": "uJlVJSMOFv80"
      }
    },
    {
      "cell_type": "code",
      "source": [
        "def process_user_purchases():\n",
        "  unique_users = []\n",
        "# get list of unique user ids\n",
        "  for i in range(int(len(users))):\n",
        "    if users[i] not in unique_users:\n",
        "      unique_users.append(users[i])\n",
        "# print number of games purchased by each of first hundred users\n",
        "  hundred_users = unique_users[:100]\n",
        "  for i in range(int(len(hundred_users))):\n",
        "      number_game = users.count(hundred_users[i])\n",
        "     # print(number_game)   \n",
        "# find user who has made most purchases\n",
        "  max_purchases = 0\n",
        "  user_most_purch = \"\"\n",
        "  for i in range(int(len(hundred_users))):\n",
        "      count = users.count(hundred_users[i])\n",
        "      if count > max_purchases:\n",
        "        max_purchases = count\n",
        "        user_most_purch = hundred_users[i]\n",
        "# find percentage of total purchases made by first hundred users\n",
        "  total = 0\n",
        "  for i in range(int(len(hundred_users))): \n",
        "      total += users.count(hundred_users[i]) \n",
        "  avarage = (total/int(len(users))*100)/100\n",
        "  #print(round(avarage,2),\"%\")\n",
        "# find average number of purchases made by first 100 users\n",
        "  total = 0\n",
        "  for i in range(int(len(hundred_users))): \n",
        "      total += users.count(hundred_users[i]) \n",
        "  avarage = total/100\n",
        "#Printing\n",
        "  print(\"average number of games per user\", round(avarage,2))\n",
        "  print(\"user with the maximum number of purchases\",user_most_purch)\n",
        "\n",
        "  print(\"list of the hundred users ids and and the percentage each has purchased\")\n",
        "  percent_each_user = []\n",
        "  for i in range(int(len(hundred_users))): \n",
        "    percent_each_user.append(int(users.count(unique_users[i]))/int(len(users))*100)  \n",
        "    print(hundred_users[i], round(percent_each_user[i],2), \"%\") \n",
        "\n",
        "process_user_purchases()"
      ],
      "metadata": {
        "id": "HQtJd18eGSrf",
        "colab": {
          "base_uri": "https://localhost:8080/"
        },
        "outputId": "68b53378-427a-4bbb-b648-29e715558769"
      },
      "execution_count": 82,
      "outputs": [
        {
          "output_type": "stream",
          "name": "stdout",
          "text": [
            "average number of games per user 16.46\n",
            "user with the maximum number of purchases 53875128\n",
            "list of the hundred users ids and and the percentage each has purchased\n",
            "151603712 0.03 %\n",
            "187131847 0.0 %\n",
            "59945701 0.03 %\n",
            "53875128 0.39 %\n",
            "234941318 0.0 %\n",
            "140954425 0.0 %\n",
            "26122540 0.01 %\n",
            "176410694 0.0 %\n",
            "197278511 0.0 %\n",
            "150128162 0.0 %\n",
            "197455089 0.0 %\n",
            "63024728 0.0 %\n",
            "297811211 0.0 %\n",
            "76933274 0.0 %\n",
            "218323237 0.0 %\n",
            "302186258 0.0 %\n",
            "126340495 0.02 %\n",
            "256193015 0.0 %\n",
            "194895541 0.0 %\n",
            "30007387 0.0 %\n",
            "170625356 0.0 %\n",
            "159538705 0.0 %\n",
            "167362888 0.0 %\n",
            "208649703 0.0 %\n",
            "299889828 0.0 %\n",
            "225987202 0.0 %\n",
            "195071563 0.0 %\n",
            "254906420 0.0 %\n",
            "247160953 0.0 %\n",
            "308653033 0.0 %\n",
            "144138643 0.0 %\n",
            "197902002 0.0 %\n",
            "97298878 0.05 %\n",
            "173909336 0.0 %\n",
            "198572546 0.0 %\n",
            "219509107 0.0 %\n",
            "202906503 0.0 %\n",
            "92107940 0.01 %\n",
            "251431515 0.0 %\n",
            "233558010 0.0 %\n",
            "99189757 0.0 %\n",
            "30695285 0.0 %\n",
            "259648553 0.0 %\n",
            "201069271 0.0 %\n",
            "48845802 0.01 %\n",
            "226212066 0.01 %\n",
            "221430493 0.0 %\n",
            "62923086 0.01 %\n",
            "250006052 0.0 %\n",
            "65117175 0.1 %\n",
            "227944885 0.0 %\n",
            "144004384 0.0 %\n",
            "236557903 0.0 %\n",
            "11373749 0.35 %\n",
            "140293612 0.0 %\n",
            "187851224 0.0 %\n",
            "192921532 0.0 %\n",
            "54103616 0.02 %\n",
            "222277839 0.0 %\n",
            "298547051 0.0 %\n",
            "264253640 0.01 %\n",
            "125718844 0.0 %\n",
            "230599183 0.0 %\n",
            "280061602 0.0 %\n",
            "38763767 0.0 %\n",
            "164543231 0.01 %\n",
            "211277578 0.0 %\n",
            "214167822 0.0 %\n",
            "163617342 0.02 %\n",
            "295931968 0.0 %\n",
            "196354657 0.0 %\n",
            "165034415 0.0 %\n",
            "298389371 0.0 %\n",
            "27543430 0.0 %\n",
            "126640783 0.0 %\n",
            "119410870 0.0 %\n",
            "243440565 0.0 %\n",
            "157694162 0.0 %\n",
            "154868247 0.0 %\n",
            "263856756 0.0 %\n",
            "124395695 0.0 %\n",
            "126656629 0.0 %\n",
            "197821092 0.0 %\n",
            "294797577 0.0 %\n",
            "228507886 0.0 %\n",
            "272425320 0.0 %\n",
            "49769103 0.0 %\n",
            "202742019 0.0 %\n",
            "239397807 0.0 %\n",
            "65758675 0.0 %\n",
            "239921853 0.0 %\n",
            "300601393 0.0 %\n",
            "109278470 0.01 %\n",
            "197509386 0.0 %\n",
            "92842632 0.0 %\n",
            "103973922 0.0 %\n",
            "5270060 0.01 %\n",
            "171847029 0.02 %\n",
            "111479516 0.0 %\n",
            "64350600 0.03 %\n"
          ]
        }
      ]
    }
  ]
}